{
  "nbformat": 4,
  "nbformat_minor": 0,
  "metadata": {
    "colab": {
      "name": "NYTCleanup.ipynb",
      "provenance": [],
      "authorship_tag": "ABX9TyOMPBDwYlA4yO9AijDgJVEm",
      "include_colab_link": true
    },
    "kernelspec": {
      "name": "python3",
      "display_name": "Python 3"
    },
    "language_info": {
      "name": "python"
    }
  },
  "cells": [
    {
      "cell_type": "markdown",
      "metadata": {
        "id": "view-in-github",
        "colab_type": "text"
      },
      "source": [
        "<a href=\"https://colab.research.google.com/github/sruthipsuresh/best-sellers-analysis/blob/main/NYTBL_Final_Analysis/scripts/NYTCleanup.ipynb\" target=\"_parent\"><img src=\"https://colab.research.google.com/assets/colab-badge.svg\" alt=\"Open In Colab\"/></a>"
      ]
    },
    {
      "cell_type": "code",
      "execution_count": 1,
      "metadata": {
        "id": "LVN_tEeshwRd"
      },
      "outputs": [],
      "source": [
        "import pandas as pd\n",
        "## NEW YORK TIMES SCRAPING\n",
        "import os\n",
        "import json\n",
        "import time\n",
        "import requests\n",
        "import datetime\n",
        "import dateutil\n",
        "from dateutil.relativedelta import relativedelta\n",
        "import pandas as pd"
      ]
    },
    {
      "cell_type": "code",
      "source": [
        "combined = pd.read_csv(\"/content/combined_nyt_data1_cleaned.csv\") #loading data\n",
        "len(combined)"
      ],
      "metadata": {
        "colab": {
          "base_uri": "https://localhost:8080/"
        },
        "id": "UIqgpV9Ih8be",
        "outputId": "218f5d0c-4afd-47e7-ea6b-04429567de79"
      },
      "execution_count": 2,
      "outputs": [
        {
          "output_type": "execute_result",
          "data": {
            "text/plain": [
              "65433"
            ]
          },
          "metadata": {},
          "execution_count": 2
        }
      ]
    },
    {
      "cell_type": "code",
      "source": [
        "combined = combined[combined['results__books__title'].notna()]\n",
        "combined = combined.drop_duplicates(subset=['results__books__title'])\n",
        "len(combined)"
      ],
      "metadata": {
        "colab": {
          "base_uri": "https://localhost:8080/"
        },
        "id": "7PDJNzuKiU-w",
        "outputId": "14a43b27-7846-40d7-b6fc-436fee5eafdd"
      },
      "execution_count": 4,
      "outputs": [
        {
          "output_type": "execute_result",
          "data": {
            "text/plain": [
              "1894"
            ]
          },
          "metadata": {},
          "execution_count": 4
        }
      ]
    },
    {
      "cell_type": "code",
      "source": [
        "combined.to_csv('data1_final_cleaned.csv')"
      ],
      "metadata": {
        "id": "RHZFemt4i4uw"
      },
      "execution_count": 5,
      "outputs": []
    }
  ]
}