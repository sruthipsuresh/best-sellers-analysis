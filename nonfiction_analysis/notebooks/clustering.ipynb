{
  "nbformat": 4,
  "nbformat_minor": 0,
  "metadata": {
    "colab": {
      "name": "clustering.ipynb",
      "provenance": [],
      "authorship_tag": "ABX9TyPDBO4TmOkDFavjHMUOiafh",
      "include_colab_link": true
    },
    "kernelspec": {
      "name": "python3",
      "display_name": "Python 3"
    },
    "language_info": {
      "name": "python"
    }
  },
  "cells": [
    {
      "cell_type": "markdown",
      "metadata": {
        "id": "view-in-github",
        "colab_type": "text"
      },
      "source": [
        "<a href=\"https://colab.research.google.com/github/sruthipsuresh/best-sellers-analysis/blob/main/clustering.ipynb\" target=\"_parent\"><img src=\"https://colab.research.google.com/assets/colab-badge.svg\" alt=\"Open In Colab\"/></a>"
      ]
    },
    {
      "cell_type": "code",
      "metadata": {
        "colab": {
          "base_uri": "https://localhost:8080/"
        },
        "id": "mRqjCIdcFzxp",
        "outputId": "0354b335-1f1a-48e3-cff7-215ac49701d0"
      },
      "source": [
        "import pandas as pd\n",
        "import re\n",
        "from wordcloud import WordCloud\n",
        "import pandas as pd\n",
        "import numpy as np\n",
        "import seaborn as sns\n",
        "! pip install -U textblob\n",
        "from textblob import TextBlob\n",
        "from google.colab import files\n",
        "import matplotlib.pyplot as plt\n",
        "% matplotlib inline\n"
      ],
      "execution_count": 1,
      "outputs": [
        {
          "output_type": "stream",
          "text": [
            "Requirement already up-to-date: textblob in /usr/local/lib/python3.7/dist-packages (0.15.3)\n",
            "Requirement already satisfied, skipping upgrade: nltk>=3.1 in /usr/local/lib/python3.7/dist-packages (from textblob) (3.2.5)\n",
            "Requirement already satisfied, skipping upgrade: six in /usr/local/lib/python3.7/dist-packages (from nltk>=3.1->textblob) (1.15.0)\n"
          ],
          "name": "stdout"
        }
      ]
    },
    {
      "cell_type": "markdown",
      "metadata": {
        "id": "denPirlpGVEd"
      },
      "source": [
        "https://towardsdatascience.com/clustering-documents-with-python-97314ad6a78d"
      ]
    },
    {
      "cell_type": "code",
      "metadata": {
        "colab": {
          "base_uri": "https://localhost:8080/",
          "height": 204
        },
        "id": "jyQCtCW0F3h5",
        "outputId": "f945f9e7-dcf3-46cc-c760-77b48e7b49b7"
      },
      "source": [
        "# Load \n",
        "nyt = pd.read_csv(\"/content/nytcleaned.csv\") #loading data\n",
        "nyt.head()\n",
        "nyt['results__books__title'] = nyt['results__books__title'].map(lambda x: re.sub('[,\\.!?]', '', x))\n",
        "# Convert the titles to lowercase\n",
        "nyt['results__books__title'] = nyt['results__books__title'].map(lambda x: x.lower())\n",
        "nyt['results__books__description'] = nyt['results__books__description'].map(lambda x: re.sub('[,\\.!?]', '', x))\n",
        "# Convert the titles to lowercase\n",
        "nyt['results__books__description'] = nyt['results__books__description'].map(lambda x: x.lower())\n",
        "nyt.head()"
      ],
      "execution_count": 31,
      "outputs": [
        {
          "output_type": "execute_result",
          "data": {
            "text/html": [
              "<div>\n",
              "<style scoped>\n",
              "    .dataframe tbody tr th:only-of-type {\n",
              "        vertical-align: middle;\n",
              "    }\n",
              "\n",
              "    .dataframe tbody tr th {\n",
              "        vertical-align: top;\n",
              "    }\n",
              "\n",
              "    .dataframe thead th {\n",
              "        text-align: right;\n",
              "    }\n",
              "</style>\n",
              "<table border=\"1\" class=\"dataframe\">\n",
              "  <thead>\n",
              "    <tr style=\"text-align: right;\">\n",
              "      <th></th>\n",
              "      <th>Unnamed: 0</th>\n",
              "      <th>results__books__description</th>\n",
              "      <th>results__books__title</th>\n",
              "      <th>results__books__author</th>\n",
              "      <th>results__books__amazon_product_url</th>\n",
              "    </tr>\n",
              "  </thead>\n",
              "  <tbody>\n",
              "    <tr>\n",
              "      <th>0</th>\n",
              "      <td>0</td>\n",
              "      <td>an approach to dealing with trauma that shifts...</td>\n",
              "      <td>what happened to you</td>\n",
              "      <td>Bruce D. Perry and Oprah Winfrey</td>\n",
              "      <td>https://www.amazon.com/dp/1250223180?tag=NYTBS...</td>\n",
              "    </tr>\n",
              "    <tr>\n",
              "      <th>1</th>\n",
              "      <td>6</td>\n",
              "      <td>a look at the key players and outcomes of prec...</td>\n",
              "      <td>the bomber mafia</td>\n",
              "      <td>Malcolm Gladwell</td>\n",
              "      <td>https://www.amazon.com/dp/0316296619?tag=NYTBS...</td>\n",
              "    </tr>\n",
              "    <tr>\n",
              "      <th>2</th>\n",
              "      <td>12</td>\n",
              "      <td>an anthology of writing on the black experienc...</td>\n",
              "      <td>you are your best thing</td>\n",
              "      <td>edited  Tarana Burke and Brené Brown</td>\n",
              "      <td>https://www.amazon.com/dp/0593243625?tag=NYTBS...</td>\n",
              "    </tr>\n",
              "    <tr>\n",
              "      <th>3</th>\n",
              "      <td>18</td>\n",
              "      <td>a collection of essays by the emmy-winning act...</td>\n",
              "      <td>how y'all doing</td>\n",
              "      <td>Leslie Jordan</td>\n",
              "      <td>https://www.amazon.com/dp/0063076195?tag=NYTBS...</td>\n",
              "    </tr>\n",
              "    <tr>\n",
              "      <th>4</th>\n",
              "      <td>24</td>\n",
              "      <td>how trauma affects the body and mind and innov...</td>\n",
              "      <td>the body keeps the score</td>\n",
              "      <td>Bessel van der Kolk</td>\n",
              "      <td>http://www.amazon.com/The-Body-Keeps-Score-Hea...</td>\n",
              "    </tr>\n",
              "  </tbody>\n",
              "</table>\n",
              "</div>"
            ],
            "text/plain": [
              "   Unnamed: 0  ...                 results__books__amazon_product_url\n",
              "0           0  ...  https://www.amazon.com/dp/1250223180?tag=NYTBS...\n",
              "1           6  ...  https://www.amazon.com/dp/0316296619?tag=NYTBS...\n",
              "2          12  ...  https://www.amazon.com/dp/0593243625?tag=NYTBS...\n",
              "3          18  ...  https://www.amazon.com/dp/0063076195?tag=NYTBS...\n",
              "4          24  ...  http://www.amazon.com/The-Body-Keeps-Score-Hea...\n",
              "\n",
              "[5 rows x 5 columns]"
            ]
          },
          "metadata": {
            "tags": []
          },
          "execution_count": 31
        }
      ]
    },
    {
      "cell_type": "code",
      "metadata": {
        "colab": {
          "base_uri": "https://localhost:8080/",
          "height": 295
        },
        "id": "kSXR_npJGUdM",
        "outputId": "d258bc3a-7c41-4b6f-9378-a9dd3ca9aca7"
      },
      "source": [
        "from sklearn.feature_extraction.text import TfidfVectorizer\n",
        "vectorizer = TfidfVectorizer(stop_words={'english'})\n",
        "data = nyt.results__books__title.values.tolist() # Based on what is needed\n",
        "X = vectorizer.fit_transform(data)\n",
        "import matplotlib.pyplot as plt\n",
        "from sklearn.cluster import KMeans\n",
        "Sum_of_squared_distances = []\n",
        "K = range(2,10)\n",
        "for k in K:\n",
        "   km = KMeans(n_clusters=k, max_iter=200, n_init=10)\n",
        "   km = km.fit(X)\n",
        "   Sum_of_squared_distances.append(km.inertia_)\n",
        "plt.plot(K, Sum_of_squared_distances, 'bx-')\n",
        "plt.xlabel('k')\n",
        "plt.ylabel('Sum_of_squared_distances')\n",
        "plt.title('Elbow Method For Optimal k')\n",
        "plt.show()\n",
        "\n"
      ],
      "execution_count": 32,
      "outputs": [
        {
          "output_type": "display_data",
          "data": {
            "image/png": "[encoded data removed]",
            "text/plain": [
              "<Figure size 432x288 with 1 Axes>"
            ]
          },
          "metadata": {
            "tags": [],
            "needs_background": "light"
          }
        }
      ]
    },
    {
      "cell_type": "code",
      "metadata": {
        "colab": {
          "base_uri": "https://localhost:8080/"
        },
        "id": "RaXjBTY6Gzau",
        "outputId": "9f96390f-906f-4705-ebd7-3c3179a8ec5b"
      },
      "source": [
        "num_clusters = 6\n",
        "km = KMeans(n_clusters=num_clusters)\n",
        "from __future__ import print_function\n",
        "km.fit(X)\n",
        "clusters = km.labels_.tolist()\n",
        "print(clusters)\n",
        "clus = np.asarray(clusters)\n",
        "# PRINT OUT CLUSTERS AND THE TOP TITLES\n",
        "clus = np.asarray(clusters)\n",
        "nyt['titlecluster'] = pd.Series(clus, index=titleclusters.index)\n"
      ],
      "execution_count": 33,
      "outputs": [
        {
          "output_type": "stream",
          "text": [
            "[1, 2, 1, 0, 2, 5, 0, 0, 0, 4, 0, 2, 0, 3, 5]\n"
          ],
          "name": "stdout"
        }
      ]
    },
    {
      "cell_type": "code",
      "metadata": {
        "colab": {
          "base_uri": "https://localhost:8080/",
          "height": 295
        },
        "id": "_a_q1z3QHUn9",
        "outputId": "6cbeec8a-368f-40fe-b25a-9cc17e2a8266"
      },
      "source": [
        "from sklearn.feature_extraction.text import TfidfVectorizer\n",
        "vectorizer = TfidfVectorizer(stop_words={'english'})\n",
        "data = nyt.results__books__description.values.tolist() # Based on what is needed\n",
        "X = vectorizer.fit_transform(data)\n",
        "import matplotlib.pyplot as plt\n",
        "from sklearn.cluster import KMeans\n",
        "Sum_of_squared_distances = []\n",
        "K = range(2,10)\n",
        "for k in K:\n",
        "   km = KMeans(n_clusters=k, max_iter=200, n_init=10)\n",
        "   km = km.fit(X)\n",
        "   Sum_of_squared_distances.append(km.inertia_)\n",
        "plt.plot(K, Sum_of_squared_distances, 'bx-')\n",
        "plt.xlabel('k')\n",
        "plt.ylabel('Sum_of_squared_distances')\n",
        "plt.title('Elbow Method For Optimal k')\n",
        "plt.show()\n",
        "\n"
      ],
      "execution_count": 34,
      "outputs": [
        {
          "output_type": "display_data",
          "data": {
            "image/png": "[encoded data removed]",
            "text/plain": [
              "<Figure size 432x288 with 1 Axes>"
            ]
          },
          "metadata": {
            "tags": [],
            "needs_background": "light"
          }
        }
      ]
    },
    {
      "cell_type": "code",
      "metadata": {
        "colab": {
          "base_uri": "https://localhost:8080/"
        },
        "id": "I-JIhRdnIkVc",
        "outputId": "1a54d02c-4ecd-4d16-ef23-f393568dc354"
      },
      "source": [
        "num_clusters = 6\n",
        "km = KMeans(n_clusters=num_clusters)\n",
        "from __future__ import print_function\n",
        "km.fit(X)\n",
        "clusters = km.labels_.tolist()\n",
        "print(clusters)\n",
        "clus = np.asarray(clusters)\n",
        "# PRINT OUT CLUSTERS AND THE TOP TITLES\n",
        "clus = np.asarray(clusters)\n",
        "nyt['descriptioncluster'] = pd.Series(clus, index=nyt.index)\n",
        "nyt.head()\n",
        "\n",
        "nyt.to_csv('nytclustering.csv')\n",
        "\n"
      ],
      "execution_count": 37,
      "outputs": [
        {
          "output_type": "stream",
          "text": [
            "[4, 0, 4, 1, 3, 1, 5, 0, 2, 1, 2, 5, 4, 4, 3]\n"
          ],
          "name": "stdout"
        }
      ]
    },
    {
      "cell_type": "code",
      "metadata": {
        "id": "39RD5Cf3Mj0o"
      },
      "source": [
        ""
      ],
      "execution_count": null,
      "outputs": []
    }
  ]
}