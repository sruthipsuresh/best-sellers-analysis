{
  "nbformat": 4,
  "nbformat_minor": 0,
  "metadata": {
    "colab": {
      "name": "wordcloudandtextblob.ipynb",
      "provenance": [],
      "authorship_tag": "ABX9TyPusBzSoLWNpX9YVOGOnOVX",
      "include_colab_link": true
    },
    "kernelspec": {
      "name": "python3",
      "display_name": "Python 3"
    },
    "language_info": {
      "name": "python"
    }
  },
  "cells": [
    {
      "cell_type": "markdown",
      "metadata": {
        "id": "view-in-github",
        "colab_type": "text"
      },
      "source": [
        "<a href=\"https://colab.research.google.com/github/sruthipsuresh/best-sellers-analysis/blob/main/wordcloudandtextblob.ipynb\" target=\"_parent\"><img src=\"https://colab.research.google.com/assets/colab-badge.svg\" alt=\"Open In Colab\"/></a>"
      ]
    },
    {
      "cell_type": "markdown",
      "metadata": {
        "id": "-7o-KAp4u_6E"
      },
      "source": [
        "https://towardsdatascience.com/end-to-end-topic-modeling-in-python-latent-dirichlet-allocation-lda-35ce4ed6b3e0\n"
      ]
    },
    {
      "cell_type": "code",
      "metadata": {
        "colab": {
          "base_uri": "https://localhost:8080/"
        },
        "id": "C5uJWajxtk71",
        "outputId": "cfd145e0-c55c-4fc8-cd44-f27895a8a5d6"
      },
      "source": [
        "import pandas as pd\n",
        "import re\n",
        "from wordcloud import WordCloud\n",
        "import pandas as pd\n",
        "import numpy as np\n",
        "import seaborn as sns\n",
        "! pip install -U textblob\n",
        "from textblob import TextBlob\n",
        "from google.colab import files\n",
        "import matplotlib.pyplot as plt\n",
        "% matplotlib inline\n"
      ],
      "execution_count": 13,
      "outputs": [
        {
          "output_type": "stream",
          "text": [
            "Requirement already up-to-date: textblob in /usr/local/lib/python3.7/dist-packages (0.15.3)\n",
            "Requirement already satisfied, skipping upgrade: nltk>=3.1 in /usr/local/lib/python3.7/dist-packages (from textblob) (3.2.5)\n",
            "Requirement already satisfied, skipping upgrade: six in /usr/local/lib/python3.7/dist-packages (from nltk>=3.1->textblob) (1.15.0)\n"
          ],
          "name": "stdout"
        }
      ]
    },
    {
      "cell_type": "code",
      "metadata": {
        "colab": {
          "base_uri": "https://localhost:8080/",
          "height": 204
        },
        "id": "I59WWa0ttj90",
        "outputId": "3c320a3b-857e-49b0-8c61-d5bba83032e7"
      },
      "source": [
        "# Load \n",
        "nyt = pd.read_csv(\"/content/nytcleaned.csv\") #loading data\n",
        "nyt.head()"
      ],
      "execution_count": 11,
      "outputs": [
        {
          "output_type": "execute_result",
          "data": {
            "text/html": [
              "<div>\n",
              "<style scoped>\n",
              "    .dataframe tbody tr th:only-of-type {\n",
              "        vertical-align: middle;\n",
              "    }\n",
              "\n",
              "    .dataframe tbody tr th {\n",
              "        vertical-align: top;\n",
              "    }\n",
              "\n",
              "    .dataframe thead th {\n",
              "        text-align: right;\n",
              "    }\n",
              "</style>\n",
              "<table border=\"1\" class=\"dataframe\">\n",
              "  <thead>\n",
              "    <tr style=\"text-align: right;\">\n",
              "      <th></th>\n",
              "      <th>Unnamed: 0</th>\n",
              "      <th>results__books__description</th>\n",
              "      <th>results__books__title</th>\n",
              "      <th>results__books__author</th>\n",
              "      <th>results__books__amazon_product_url</th>\n",
              "    </tr>\n",
              "  </thead>\n",
              "  <tbody>\n",
              "    <tr>\n",
              "      <th>0</th>\n",
              "      <td>0</td>\n",
              "      <td>An approach to dealing with trauma that shifts...</td>\n",
              "      <td>WHAT HAPPENED TO YOU?</td>\n",
              "      <td>Bruce D. Perry and Oprah Winfrey</td>\n",
              "      <td>https://www.amazon.com/dp/1250223180?tag=NYTBS...</td>\n",
              "    </tr>\n",
              "    <tr>\n",
              "      <th>1</th>\n",
              "      <td>6</td>\n",
              "      <td>A look at the key players and outcomes of prec...</td>\n",
              "      <td>THE BOMBER MAFIA</td>\n",
              "      <td>Malcolm Gladwell</td>\n",
              "      <td>https://www.amazon.com/dp/0316296619?tag=NYTBS...</td>\n",
              "    </tr>\n",
              "    <tr>\n",
              "      <th>2</th>\n",
              "      <td>12</td>\n",
              "      <td>An anthology of writing on the Black experienc...</td>\n",
              "      <td>YOU ARE YOUR BEST THING</td>\n",
              "      <td>edited  Tarana Burke and Brené Brown</td>\n",
              "      <td>https://www.amazon.com/dp/0593243625?tag=NYTBS...</td>\n",
              "    </tr>\n",
              "    <tr>\n",
              "      <th>3</th>\n",
              "      <td>18</td>\n",
              "      <td>A collection of essays by the Emmy-winning act...</td>\n",
              "      <td>HOW Y'ALL DOING?</td>\n",
              "      <td>Leslie Jordan</td>\n",
              "      <td>https://www.amazon.com/dp/0063076195?tag=NYTBS...</td>\n",
              "    </tr>\n",
              "    <tr>\n",
              "      <th>4</th>\n",
              "      <td>24</td>\n",
              "      <td>How trauma affects the body and mind, and inno...</td>\n",
              "      <td>THE BODY KEEPS THE SCORE</td>\n",
              "      <td>Bessel van der Kolk</td>\n",
              "      <td>http://www.amazon.com/The-Body-Keeps-Score-Hea...</td>\n",
              "    </tr>\n",
              "  </tbody>\n",
              "</table>\n",
              "</div>"
            ],
            "text/plain": [
              "   Unnamed: 0  ...                 results__books__amazon_product_url\n",
              "0           0  ...  https://www.amazon.com/dp/1250223180?tag=NYTBS...\n",
              "1           6  ...  https://www.amazon.com/dp/0316296619?tag=NYTBS...\n",
              "2          12  ...  https://www.amazon.com/dp/0593243625?tag=NYTBS...\n",
              "3          18  ...  https://www.amazon.com/dp/0063076195?tag=NYTBS...\n",
              "4          24  ...  http://www.amazon.com/The-Body-Keeps-Score-Hea...\n",
              "\n",
              "[5 rows x 5 columns]"
            ]
          },
          "metadata": {
            "tags": []
          },
          "execution_count": 11
        }
      ]
    },
    {
      "cell_type": "code",
      "metadata": {
        "colab": {
          "base_uri": "https://localhost:8080/",
          "height": 217
        },
        "id": "yMz6jT3Bu_av",
        "outputId": "55c6452e-9ebd-4fe8-f74e-ac09c326e352"
      },
      "source": [
        "# FIRST LOOKING AT TITLES\n",
        "# Remove punctuation\n",
        "nyt['results__books__title'] = nyt['results__books__title'].map(lambda x: re.sub('[,\\.!?]', '', x))\n",
        "# Convert the titles to lowercase\n",
        "nyt['results__books__title'] = nyt['results__books__title'].map(lambda x: x.lower())\n",
        "# Print out the first rows of papers\n",
        "nyt['results__books__title'].head()\n",
        "long_string = ','.join(list(nyt['results__books__title'].values))\n",
        "# Create a WordCloud object\n",
        "wordcloud = WordCloud(background_color=\"white\", max_words=5000, contour_width=3, contour_color='steelblue')\n",
        "# Generate a word cloud\n",
        "wordcloud.generate(long_string)\n",
        "# Visualize the word cloud\n",
        "wordcloud.to_image()\n"
      ],
      "execution_count": 22,
      "outputs": [
        {
          "output_type": "execute_result",
          "data": {
            "image/png": "[encoded data removed]",
            "text/plain": [
              "<PIL.Image.Image image mode=RGB size=400x200 at 0x7FE060763CD0>"
            ]
          },
          "metadata": {
            "tags": []
          },
          "execution_count": 22
        }
      ]
    },
    {
      "cell_type": "code",
      "metadata": {
        "colab": {
          "base_uri": "https://localhost:8080/"
        },
        "id": "mj9EW5Nfw4uE",
        "outputId": "4c13283d-ce90-4624-f52d-fb2af3ec33ef"
      },
      "source": [
        "# Run test case\n",
        "textblob = pd.DataFrame(nyt)\n",
        "titletest = nyt.results__books__title[2]\n",
        "str(titletest)\n",
        "analysis = TextBlob(titletest)\n",
        "print(\"The test case is '\" + titletest + \"' and the sentiment calculation is\" + str(analysis.sentiment))"
      ],
      "execution_count": 16,
      "outputs": [
        {
          "output_type": "stream",
          "text": [
            "The test case is 'you are your best thing' and the sentiment calculation isSentiment(polarity=1.0, subjectivity=0.3)\n"
          ],
          "name": "stdout"
        }
      ]
    },
    {
      "cell_type": "code",
      "metadata": {
        "colab": {
          "base_uri": "https://localhost:8080/",
          "height": 306
        },
        "id": "Ydn5yk6Axaue",
        "outputId": "1010be63-6757-41de-f638-90db183c8763"
      },
      "source": [
        "textblob['results__books__title'] = textblob['results__books__title'].astype(str)\n",
        "polarity = lambda x: TextBlob(x).sentiment.polarity\n",
        "subjectivity = lambda x: TextBlob(x).sentiment.subjectivity\n",
        "textblob['polarity'] = textblob['results__books__title'].apply(polarity)\n",
        "textblob['subjectivity'] = textblob['results__books__title'].apply(subjectivity)\n",
        "textblob.head()\n"
      ],
      "execution_count": 17,
      "outputs": [
        {
          "output_type": "execute_result",
          "data": {
            "text/html": [
              "<div>\n",
              "<style scoped>\n",
              "    .dataframe tbody tr th:only-of-type {\n",
              "        vertical-align: middle;\n",
              "    }\n",
              "\n",
              "    .dataframe tbody tr th {\n",
              "        vertical-align: top;\n",
              "    }\n",
              "\n",
              "    .dataframe thead th {\n",
              "        text-align: right;\n",
              "    }\n",
              "</style>\n",
              "<table border=\"1\" class=\"dataframe\">\n",
              "  <thead>\n",
              "    <tr style=\"text-align: right;\">\n",
              "      <th></th>\n",
              "      <th>Unnamed: 0</th>\n",
              "      <th>results__books__description</th>\n",
              "      <th>results__books__title</th>\n",
              "      <th>results__books__author</th>\n",
              "      <th>results__books__amazon_product_url</th>\n",
              "      <th>polarity</th>\n",
              "      <th>subjectivity</th>\n",
              "    </tr>\n",
              "  </thead>\n",
              "  <tbody>\n",
              "    <tr>\n",
              "      <th>0</th>\n",
              "      <td>0</td>\n",
              "      <td>An approach to dealing with trauma that shifts...</td>\n",
              "      <td>what happened to you</td>\n",
              "      <td>Bruce D. Perry and Oprah Winfrey</td>\n",
              "      <td>https://www.amazon.com/dp/1250223180?tag=NYTBS...</td>\n",
              "      <td>0.0</td>\n",
              "      <td>0.0</td>\n",
              "    </tr>\n",
              "    <tr>\n",
              "      <th>1</th>\n",
              "      <td>6</td>\n",
              "      <td>A look at the key players and outcomes of prec...</td>\n",
              "      <td>the bomber mafia</td>\n",
              "      <td>Malcolm Gladwell</td>\n",
              "      <td>https://www.amazon.com/dp/0316296619?tag=NYTBS...</td>\n",
              "      <td>0.0</td>\n",
              "      <td>0.0</td>\n",
              "    </tr>\n",
              "    <tr>\n",
              "      <th>2</th>\n",
              "      <td>12</td>\n",
              "      <td>An anthology of writing on the Black experienc...</td>\n",
              "      <td>you are your best thing</td>\n",
              "      <td>edited  Tarana Burke and Brené Brown</td>\n",
              "      <td>https://www.amazon.com/dp/0593243625?tag=NYTBS...</td>\n",
              "      <td>1.0</td>\n",
              "      <td>0.3</td>\n",
              "    </tr>\n",
              "    <tr>\n",
              "      <th>3</th>\n",
              "      <td>18</td>\n",
              "      <td>A collection of essays by the Emmy-winning act...</td>\n",
              "      <td>how y'all doing</td>\n",
              "      <td>Leslie Jordan</td>\n",
              "      <td>https://www.amazon.com/dp/0063076195?tag=NYTBS...</td>\n",
              "      <td>0.0</td>\n",
              "      <td>0.0</td>\n",
              "    </tr>\n",
              "    <tr>\n",
              "      <th>4</th>\n",
              "      <td>24</td>\n",
              "      <td>How trauma affects the body and mind, and inno...</td>\n",
              "      <td>the body keeps the score</td>\n",
              "      <td>Bessel van der Kolk</td>\n",
              "      <td>http://www.amazon.com/The-Body-Keeps-Score-Hea...</td>\n",
              "      <td>0.0</td>\n",
              "      <td>0.0</td>\n",
              "    </tr>\n",
              "  </tbody>\n",
              "</table>\n",
              "</div>"
            ],
            "text/plain": [
              "   Unnamed: 0  ... subjectivity\n",
              "0           0  ...          0.0\n",
              "1           6  ...          0.0\n",
              "2          12  ...          0.3\n",
              "3          18  ...          0.0\n",
              "4          24  ...          0.0\n",
              "\n",
              "[5 rows x 7 columns]"
            ]
          },
          "metadata": {
            "tags": []
          },
          "execution_count": 17
        }
      ]
    },
    {
      "cell_type": "code",
      "metadata": {
        "colab": {
          "base_uri": "https://localhost:8080/",
          "height": 311
        },
        "id": "wzpJtiZOxfLD",
        "outputId": "810f8f36-3056-4957-e10b-db94d0708820"
      },
      "source": [
        "sns.scatterplot(data=textblob, x=\"polarity\", y=\"subjectivity\", hue = \"results__books__title\")\n",
        "plt.savefig('titlepolsub.png')\n",
        "files.download('titlepolsub.png')\n"
      ],
      "execution_count": 20,
      "outputs": [
        {
          "output_type": "display_data",
          "data": {
            "application/javascript": [
              "\n",
              "    async function download(id, filename, size) {\n",
              "      if (!google.colab.kernel.accessAllowed) {\n",
              "        return;\n",
              "      }\n",
              "      const div = document.createElement('div');\n",
              "      const label = document.createElement('label');\n",
              "      label.textContent = `Downloading \"${filename}\": `;\n",
              "      div.appendChild(label);\n",
              "      const progress = document.createElement('progress');\n",
              "      progress.max = size;\n",
              "      div.appendChild(progress);\n",
              "      document.body.appendChild(div);\n",
              "\n",
              "      const buffers = [];\n",
              "      let downloaded = 0;\n",
              "\n",
              "      const channel = await google.colab.kernel.comms.open(id);\n",
              "      // Send a message to notify the kernel that we're ready.\n",
              "      channel.send({})\n",
              "\n",
              "      for await (const message of channel.messages) {\n",
              "        // Send a message to notify the kernel that we're ready.\n",
              "        channel.send({})\n",
              "        if (message.buffers) {\n",
              "          for (const buffer of message.buffers) {\n",
              "            buffers.push(buffer);\n",
              "            downloaded += buffer.byteLength;\n",
              "            progress.value = downloaded;\n",
              "          }\n",
              "        }\n",
              "      }\n",
              "      const blob = new Blob(buffers, {type: 'application/binary'});\n",
              "      const a = document.createElement('a');\n",
              "      a.href = window.URL.createObjectURL(blob);\n",
              "      a.download = filename;\n",
              "      div.appendChild(a);\n",
              "      a.click();\n",
              "      div.remove();\n",
              "    }\n",
              "  "
            ],
            "text/plain": [
              "<IPython.core.display.Javascript object>"
            ]
          },
          "metadata": {
            "tags": []
          }
        },
        {
          "output_type": "display_data",
          "data": {
            "application/javascript": [
              "download(\"download_886d9340-d644-498a-9076-f3e0a74b9f7a\", \"titlepolsub.png\", 26032)"
            ],
            "text/plain": [
              "<IPython.core.display.Javascript object>"
            ]
          },
          "metadata": {
            "tags": []
          }
        },
        {
          "output_type": "display_data",
          "data": {
            "image/png": "[encoded data removed]",
            "text/plain": [
              "<Figure size 432x288 with 1 Axes>"
            ]
          },
          "metadata": {
            "tags": [],
            "needs_background": "light"
          }
        }
      ]
    },
    {
      "cell_type": "code",
      "metadata": {
        "colab": {
          "base_uri": "https://localhost:8080/",
          "height": 204
        },
        "id": "YMaz9raOyqSv",
        "outputId": "b8d75241-b035-4b6b-8a5c-247f7ff092a1"
      },
      "source": [
        "## NOW LET'S LOOK AT DESCRIPTIONS\n",
        "\n",
        "# Load \n",
        "nyt = pd.read_csv(\"/content/nytcleaned.csv\") #loading data\n",
        "nyt.head()"
      ],
      "execution_count": 27,
      "outputs": [
        {
          "output_type": "execute_result",
          "data": {
            "text/html": [
              "<div>\n",
              "<style scoped>\n",
              "    .dataframe tbody tr th:only-of-type {\n",
              "        vertical-align: middle;\n",
              "    }\n",
              "\n",
              "    .dataframe tbody tr th {\n",
              "        vertical-align: top;\n",
              "    }\n",
              "\n",
              "    .dataframe thead th {\n",
              "        text-align: right;\n",
              "    }\n",
              "</style>\n",
              "<table border=\"1\" class=\"dataframe\">\n",
              "  <thead>\n",
              "    <tr style=\"text-align: right;\">\n",
              "      <th></th>\n",
              "      <th>Unnamed: 0</th>\n",
              "      <th>results__books__description</th>\n",
              "      <th>results__books__title</th>\n",
              "      <th>results__books__author</th>\n",
              "      <th>results__books__amazon_product_url</th>\n",
              "    </tr>\n",
              "  </thead>\n",
              "  <tbody>\n",
              "    <tr>\n",
              "      <th>0</th>\n",
              "      <td>0</td>\n",
              "      <td>An approach to dealing with trauma that shifts...</td>\n",
              "      <td>WHAT HAPPENED TO YOU?</td>\n",
              "      <td>Bruce D. Perry and Oprah Winfrey</td>\n",
              "      <td>https://www.amazon.com/dp/1250223180?tag=NYTBS...</td>\n",
              "    </tr>\n",
              "    <tr>\n",
              "      <th>1</th>\n",
              "      <td>6</td>\n",
              "      <td>A look at the key players and outcomes of prec...</td>\n",
              "      <td>THE BOMBER MAFIA</td>\n",
              "      <td>Malcolm Gladwell</td>\n",
              "      <td>https://www.amazon.com/dp/0316296619?tag=NYTBS...</td>\n",
              "    </tr>\n",
              "    <tr>\n",
              "      <th>2</th>\n",
              "      <td>12</td>\n",
              "      <td>An anthology of writing on the Black experienc...</td>\n",
              "      <td>YOU ARE YOUR BEST THING</td>\n",
              "      <td>edited  Tarana Burke and Brené Brown</td>\n",
              "      <td>https://www.amazon.com/dp/0593243625?tag=NYTBS...</td>\n",
              "    </tr>\n",
              "    <tr>\n",
              "      <th>3</th>\n",
              "      <td>18</td>\n",
              "      <td>A collection of essays by the Emmy-winning act...</td>\n",
              "      <td>HOW Y'ALL DOING?</td>\n",
              "      <td>Leslie Jordan</td>\n",
              "      <td>https://www.amazon.com/dp/0063076195?tag=NYTBS...</td>\n",
              "    </tr>\n",
              "    <tr>\n",
              "      <th>4</th>\n",
              "      <td>24</td>\n",
              "      <td>How trauma affects the body and mind, and inno...</td>\n",
              "      <td>THE BODY KEEPS THE SCORE</td>\n",
              "      <td>Bessel van der Kolk</td>\n",
              "      <td>http://www.amazon.com/The-Body-Keeps-Score-Hea...</td>\n",
              "    </tr>\n",
              "  </tbody>\n",
              "</table>\n",
              "</div>"
            ],
            "text/plain": [
              "   Unnamed: 0  ...                 results__books__amazon_product_url\n",
              "0           0  ...  https://www.amazon.com/dp/1250223180?tag=NYTBS...\n",
              "1           6  ...  https://www.amazon.com/dp/0316296619?tag=NYTBS...\n",
              "2          12  ...  https://www.amazon.com/dp/0593243625?tag=NYTBS...\n",
              "3          18  ...  https://www.amazon.com/dp/0063076195?tag=NYTBS...\n",
              "4          24  ...  http://www.amazon.com/The-Body-Keeps-Score-Hea...\n",
              "\n",
              "[5 rows x 5 columns]"
            ]
          },
          "metadata": {
            "tags": []
          },
          "execution_count": 27
        }
      ]
    },
    {
      "cell_type": "code",
      "metadata": {
        "colab": {
          "base_uri": "https://localhost:8080/"
        },
        "id": "PdgfpXU3yvAP",
        "outputId": "737c6bf2-3e1d-47fa-e8c7-196f3f7522af"
      },
      "source": [
        "# FIRST LOOKING AT TITLES\n",
        "# Remove punctuation\n",
        "nyt['results__books__description'] = nyt['results__books__description'].map(lambda x: re.sub('[,\\.!?]', '', x))\n",
        "# Convert the titles to lowercase\n",
        "nyt['results__books__description'] = nyt['results__books__description'].map(lambda x: x.lower())\n",
        "# Print out the first rows of papers\n",
        "nyt['results__books__description'].head()\n",
        "long_string = ','.join(list(nyt['results__books__description'].values))\n",
        "# Create a WordCloud object\n",
        "wordcloud = WordCloud(background_color=\"white\", max_words=5000, contour_width=3, contour_color='steelblue')\n",
        "# Generate a word cloud\n",
        "wordcloud.generate(long_string)\n",
        "# Visualize the word cloud\n",
        "wordcloud.to_image()\n",
        "wordcloud.to_file('descriptionwordcloud.png')\n"
      ],
      "execution_count": 31,
      "outputs": [
        {
          "output_type": "execute_result",
          "data": {
            "text/plain": [
              "<wordcloud.wordcloud.WordCloud at 0x7fe060796510>"
            ]
          },
          "metadata": {
            "tags": []
          },
          "execution_count": 31
        }
      ]
    }
  ]
}