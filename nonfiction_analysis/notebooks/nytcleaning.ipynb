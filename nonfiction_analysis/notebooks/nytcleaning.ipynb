{
  "nbformat": 4,
  "nbformat_minor": 0,
  "metadata": {
    "colab": {
      "name": "nytcleaning.ipynb",
      "provenance": [],
      "authorship_tag": "ABX9TyMu6vDYuN09FtH6wwxctQw7",
      "include_colab_link": true
    },
    "kernelspec": {
      "name": "python3",
      "display_name": "Python 3"
    },
    "language_info": {
      "name": "python"
    }
  },
  "cells": [
    {
      "cell_type": "markdown",
      "metadata": {
        "id": "view-in-github",
        "colab_type": "text"
      },
      "source": [
        "<a href=\"https://colab.research.google.com/github/sruthipsuresh/best-sellers-analysis/blob/main/nytcleaning.ipynb\" target=\"_parent\"><img src=\"https://colab.research.google.com/assets/colab-badge.svg\" alt=\"Open In Colab\"/></a>"
      ]
    },
    {
      "cell_type": "code",
      "metadata": {
        "id": "-jzmOd8UmBf2"
      },
      "source": [
        "import pandas as pd"
      ],
      "execution_count": 10,
      "outputs": []
    },
    {
      "cell_type": "code",
      "metadata": {
        "id": "UmqvG9mnoEHl"
      },
      "source": [
        "# Clean up NYT\n",
        "nyt = pd.read_csv(\"/content/nonfiction.csv\") #loading data\n",
        "#First remove columns which are remnants from json\n",
        "nyt = nyt.iloc[: , 14:]\n",
        "#Let's only keep the title, description, author, product url\n",
        "nyt = nyt[['results__books__description', 'results__books__title', 'results__books__author', 'results__books__amazon_product_url']]\n",
        "nyt = nyt[nyt['results__books__title'].notna()]\n",
        "nyt.head()\n",
        "\n",
        "nyt.to_csv('nytcleaned.csv')"
      ],
      "execution_count": 20,
      "outputs": []
    }
  ]
}