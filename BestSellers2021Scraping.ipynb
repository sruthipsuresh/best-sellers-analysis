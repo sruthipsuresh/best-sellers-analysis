{
  "nbformat": 4,
  "nbformat_minor": 0,
  "metadata": {
    "colab": {
      "name": "BestSellers2021Scraping.ipynb",
      "provenance": [],
      "collapsed_sections": [],
      "include_colab_link": true
    },
    "kernelspec": {
      "name": "python3",
      "display_name": "Python 3"
    },
    "language_info": {
      "name": "python"
    }
  },
  "cells": [
    {
      "cell_type": "markdown",
      "metadata": {
        "id": "view-in-github",
        "colab_type": "text"
      },
      "source": [
        "<a href=\"https://colab.research.google.com/github/sruthipsuresh/best-sellers-analysis/blob/main/BestSellers2021Scraping.ipynb\" target=\"_parent\"><img src=\"https://colab.research.google.com/assets/colab-badge.svg\" alt=\"Open In Colab\"/></a>"
      ]
    },
    {
      "cell_type": "markdown",
      "metadata": {
        "id": "BtOMg5lb-r2r"
      },
      "source": [
        "Code heavily referenced https://www.datacamp.com/community/tutorials/amazon-web-scraping-using-beautifulsoup"
      ]
    },
    {
      "cell_type": "code",
      "metadata": {
        "colab": {
          "base_uri": "https://localhost:8080/"
        },
        "id": "NNGkUIJ_-uM2",
        "outputId": "393b9c1c-5f13-488e-fed1-d730999b94ac"
      },
      "source": [
        "\n",
        "!pip3 install beautifulsoup4\n",
        "\n",
        "import pandas as pd\n",
        "import numpy as np\n",
        "import matplotlib.pyplot as plt\n",
        "import seaborn as sns\n",
        "import re\n",
        "import time\n",
        "from datetime import datetime\n",
        "import matplotlib.dates as mdates\n",
        "import matplotlib.ticker as ticker\n",
        "from urllib.request import urlopen\n",
        "from bs4 import BeautifulSoup\n",
        "import requests\n",
        "\n",
        "no_pages = 1\n",
        "\n",
        "def get_data(pageNo):\n",
        "    headers = {\"User-Agent\":\"Mozilla/5.0 (Windows NT 10.0; Win64; x64; rv:66.0) Gecko/20100101 Firefox/66.0\", \"Accept-Encoding\":\"gzip, deflate\", \"Accept\":\"text/html,application/xhtml+xml,application/xml;q=0.9,*/*;q=0.8\", \"DNT\":\"1\",\"Connection\":\"close\", \"Upgrade-Insecure-Requests\":\"1\"}\n",
        "\n",
        "    r = requests.get('https://www.amazon.com/gp/bestsellers/2021/books/ref=zg_bsar_nav_b_0_1/'+str(pageNo)+'?ie=UTF8&pg='+str(pageNo), headers=headers)#, proxies=proxies)\n",
        "    content = r.content\n",
        "    soup = BeautifulSoup(content)\n",
        "    #print(soup)\n",
        "\n",
        "    alls = []\n",
        "    for d in soup.findAll('div', attrs={'class':'a-section a-spacing-none aok-relative'}):\n",
        "        #print(d)\n",
        "        name = d.find('span', attrs={'class':'zg-text-center-align'})\n",
        "        n = name.find_all('img', alt=True)\n",
        "        #print(n[0]['alt'])\n",
        "        author = d.find('a', attrs={'class':'a-size-small a-link-child'})\n",
        "        rating = d.find('span', attrs={'class':'a-icon-alt'})\n",
        "        users_rated = d.find('a', attrs={'class':'a-size-small a-link-normal'})\n",
        "        price = d.find('span', attrs={'class':'p13n-sc-price'})\n",
        "        link = d.find('a', attrs={'class':'a-link-normal'})['href']\n",
        "\n",
        "        all1=[]\n",
        "\n",
        "        if name is not None:\n",
        "            #print(n[0]['alt'])\n",
        "            all1.append(n[0]['alt'])\n",
        "        else:\n",
        "            all1.append(\"unknown-product\")\n",
        "\n",
        "        if author is not None:\n",
        "            #print(author.text)\n",
        "            all1.append(author.text)\n",
        "        elif author is None:\n",
        "            author = d.find('span', attrs={'class':'a-size-small a-color-base'})\n",
        "            if author is not None:\n",
        "                all1.append(author.text)\n",
        "            else:\n",
        "                all1.append('0')\n",
        "\n",
        "        if rating is not None:\n",
        "            #print(rating.text)\n",
        "            all1.append(rating.text)\n",
        "        else:\n",
        "            all1.append('-1')\n",
        "\n",
        "        if users_rated is not None:\n",
        "            #print(price.text)\n",
        "            all1.append(users_rated.text)\n",
        "        else:\n",
        "            all1.append('0')\n",
        "\n",
        "        if price is not None:\n",
        "            #print(price.text)\n",
        "            all1.append(price.text)\n",
        "        else:\n",
        "            all1.append('0')\n",
        "        \n",
        "        if link is not None:\n",
        "            all1.append(link)\n",
        "        else:\n",
        "            all1.append('0')\n",
        "\n",
        "        alls.append(all1)\n",
        "    return alls\n",
        "\n",
        "results = []\n",
        "\n",
        "for i in range(1, no_pages+1):\n",
        "    results.append(get_data(i))\n",
        "flatten = lambda l: [item for sublist in l for item in sublist]\n",
        "df = pd.DataFrame(flatten(results),columns=['Book Name','Author','Rating','Customers_Rated', 'Price', 'Link'])\n",
        "df.to_csv('amazon_products.csv', index=False, encoding='utf-8')"
      ],
      "execution_count": 35,
      "outputs": [
        {
          "output_type": "stream",
          "text": [
            "Requirement already satisfied: beautifulsoup4 in /usr/local/lib/python3.7/dist-packages (4.6.3)\n"
          ],
          "name": "stdout"
        }
      ]
    },
    {
      "cell_type": "code",
      "metadata": {
        "colab": {
          "base_uri": "https://localhost:8080/",
          "height": 202
        },
        "id": "ouYDjmyH9Wp_",
        "outputId": "70d932c3-37a2-411c-caa3-3ca29620c5f5"
      },
      "source": [
        "df.head(5) # Check to see if everything has a link."
      ],
      "execution_count": 63,
      "outputs": [
        {
          "output_type": "execute_result",
          "data": {
            "text/html": [
              "<div>\n",
              "<style scoped>\n",
              "    .dataframe tbody tr th:only-of-type {\n",
              "        vertical-align: middle;\n",
              "    }\n",
              "\n",
              "    .dataframe tbody tr th {\n",
              "        vertical-align: top;\n",
              "    }\n",
              "\n",
              "    .dataframe thead th {\n",
              "        text-align: right;\n",
              "    }\n",
              "</style>\n",
              "<table border=\"1\" class=\"dataframe\">\n",
              "  <thead>\n",
              "    <tr style=\"text-align: right;\">\n",
              "      <th></th>\n",
              "      <th>Book Name</th>\n",
              "      <th>Author</th>\n",
              "      <th>Rating</th>\n",
              "      <th>Customers_Rated</th>\n",
              "      <th>Price</th>\n",
              "      <th>Link</th>\n",
              "    </tr>\n",
              "  </thead>\n",
              "  <tbody>\n",
              "    <tr>\n",
              "      <th>0</th>\n",
              "      <td>The Four Winds: A Novel</td>\n",
              "      <td>Kristin Hannah</td>\n",
              "      <td>4.5 out of 5 stars</td>\n",
              "      <td>32,626</td>\n",
              "      <td>$17.39</td>\n",
              "      <td>/Four-Winds-Novel-Kristin-Hannah/dp/1250178606...</td>\n",
              "    </tr>\n",
              "    <tr>\n",
              "      <th>1</th>\n",
              "      <td>The Boy, the Mole, the Fox and the Horse</td>\n",
              "      <td>Charlie Mackesy</td>\n",
              "      <td>4.9 out of 5 stars</td>\n",
              "      <td>67,759</td>\n",
              "      <td>$14.03</td>\n",
              "      <td>/Boy-Mole-Fox-Horse/dp/0062976583/ref=zg_bsar_...</td>\n",
              "    </tr>\n",
              "    <tr>\n",
              "      <th>2</th>\n",
              "      <td>Atomic Habits: An Easy &amp; Proven Way to Build G...</td>\n",
              "      <td>James Clear</td>\n",
              "      <td>4.8 out of 5 stars</td>\n",
              "      <td>37,277</td>\n",
              "      <td>$11.98</td>\n",
              "      <td>/Atomic-Habits-Proven-Build-Break/dp/073521129...</td>\n",
              "    </tr>\n",
              "    <tr>\n",
              "      <th>3</th>\n",
              "      <td>Dog Man: Mothering Heights: From the Creator o...</td>\n",
              "      <td>Dav Pilkey</td>\n",
              "      <td>4.9 out of 5 stars</td>\n",
              "      <td>2,413</td>\n",
              "      <td>$8.38</td>\n",
              "      <td>/Dog-Man-Mothering-Heights-Underpants/dp/13386...</td>\n",
              "    </tr>\n",
              "    <tr>\n",
              "      <th>4</th>\n",
              "      <td>I Love You to the Moon and Back</td>\n",
              "      <td>Amelia Hepworth</td>\n",
              "      <td>4.9 out of 5 stars</td>\n",
              "      <td>29,555</td>\n",
              "      <td>$3.59</td>\n",
              "      <td>/I-Love-You-Moon-Back/dp/1589255518/ref=zg_bsa...</td>\n",
              "    </tr>\n",
              "  </tbody>\n",
              "</table>\n",
              "</div>"
            ],
            "text/plain": [
              "                                           Book Name  ...                                               Link\n",
              "0                            The Four Winds: A Novel  ...  /Four-Winds-Novel-Kristin-Hannah/dp/1250178606...\n",
              "1           The Boy, the Mole, the Fox and the Horse  ...  /Boy-Mole-Fox-Horse/dp/0062976583/ref=zg_bsar_...\n",
              "2  Atomic Habits: An Easy & Proven Way to Build G...  ...  /Atomic-Habits-Proven-Build-Break/dp/073521129...\n",
              "3  Dog Man: Mothering Heights: From the Creator o...  ...  /Dog-Man-Mothering-Heights-Underpants/dp/13386...\n",
              "4                    I Love You to the Moon and Back  ...  /I-Love-You-Moon-Back/dp/1589255518/ref=zg_bsa...\n",
              "\n",
              "[5 rows x 6 columns]"
            ]
          },
          "metadata": {
            "tags": []
          },
          "execution_count": 63
        }
      ]
    },
    {
      "cell_type": "code",
      "metadata": {
        "colab": {
          "base_uri": "https://localhost:8080/"
        },
        "id": "q_RiOv8HWnrz",
        "outputId": "799555f1-36fb-4ae3-da92-6246323e4ad7"
      },
      "source": [
        "# Now, to find author bio, tags, summary\n",
        "\n",
        "no_pages = 1\n",
        "def get_data(link):\n",
        "  headers = { \n",
        "      'User-Agent': 'Mozilla/5.0 (Windows NT 10.0; Win64; x64) AppleWebKit/537.36 (KHTML, like Gecko) Chrome/71.0.3578.98 Safari/537.36', \n",
        "      'Accept' : 'text/html,application/xhtml+xml,application/xml;q=0.9,*/*;q=0.8', \n",
        "      'Accept-Language' : 'en-US,en;q=0.5',\n",
        "      'Accept-Encoding' : 'gzip', \n",
        "      'DNT' : '1', # Do Not Track Request Header \n",
        "      'Connection' : 'close'\n",
        "      }\n",
        "\n",
        "  r = requests.get('https://www.amazon.com'+link, headers=headers)#, proxies=proxies)\n",
        "  content = r.content\n",
        "  soup = BeautifulSoup(content, features=\"lxml\")\n",
        "  author_bio = soup.select(\"#productDescription_fullView\")\n",
        "  print(author_bio)\n",
        "  \n",
        "\n",
        "get_data('/Four-Winds-Novel-Kristin-Hannah/dp/1250178606/ref=zg_bsar_books_1?_encoding=UTF8&psc=1&refRID=R5F0E51S09YBSSQXVR83')\n",
        "\n",
        "\n",
        "#results = []\n",
        "\n",
        "#for i in range(1, no_pages+1):\n",
        "#    results.append(get_data(i))\n",
        "##flatten = lambda l: [item for sublist in l for item in sublist]\n",
        "#df = pd.DataFrame(flatten(results),columns=['Author Bio'])\n",
        "#df.to_csv('amazon_products.csv', index=False, encoding='utf-8')"
      ],
      "execution_count": 85,
      "outputs": [
        {
          "output_type": "stream",
          "text": [
            "[]\n"
          ],
          "name": "stdout"
        }
      ]
    }
  ]
}