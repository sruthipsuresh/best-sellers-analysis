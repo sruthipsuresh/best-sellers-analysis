{
  "nbformat": 4,
  "nbformat_minor": 0,
  "metadata": {
    "colab": {
      "name": "gbooksprocessing.ipynb",
      "provenance": [],
      "authorship_tag": "ABX9TyOhiB0crFZxdg5bQSsbEgdq",
      "include_colab_link": true
    },
    "kernelspec": {
      "name": "python3",
      "display_name": "Python 3"
    },
    "language_info": {
      "name": "python"
    }
  },
  "cells": [
    {
      "cell_type": "markdown",
      "metadata": {
        "id": "view-in-github",
        "colab_type": "text"
      },
      "source": [
        "<a href=\"https://colab.research.google.com/github/sruthipsuresh/best-sellers-analysis/blob/main/gbooksprocessing.ipynb\" target=\"_parent\"><img src=\"https://colab.research.google.com/assets/colab-badge.svg\" alt=\"Open In Colab\"/></a>"
      ]
    },
    {
      "cell_type": "code",
      "metadata": {
        "id": "ng2ix-CksXaB"
      },
      "source": [
        "import pandas as pd\n"
      ],
      "execution_count": 5,
      "outputs": []
    },
    {
      "cell_type": "code",
      "metadata": {
        "id": "68zWiLCQsjfx"
      },
      "source": [
        "# Only keep author, title, description\n",
        "\n",
        "combined = pd.read_csv(\"/content/combined_nyt.csv\") #loading data\n",
        "\n",
        "combined = combined[['items__volumeInfo__title', 'items__volumeInfo__subtitle', 'items__volumeInfo__authors__001', 'items__volumeInfo__description']]\n",
        "combined = combined[combined['items__volumeInfo__title'].notna()]\n",
        "len(combined.index)\n",
        "combined[\"title\"] = combined[\"items__volumeInfo__title\"] + \" \" + combined[\"items__volumeInfo__subtitle\"]\n",
        "\n",
        "combined.head()\n",
        "\n",
        "combined.to_csv('nytcombinedcleaned.csv')"
      ],
      "execution_count": 17,
      "outputs": []
    }
  ]
}