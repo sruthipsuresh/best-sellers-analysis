{
  "nbformat": 4,
  "nbformat_minor": 0,
  "metadata": {
    "colab": {
      "name": "topicmodeling.ipynb",
      "provenance": [],
      "authorship_tag": "ABX9TyN80Sds4dGA6L72Sbgnn89s",
      "include_colab_link": true
    },
    "kernelspec": {
      "name": "python3",
      "display_name": "Python 3"
    },
    "language_info": {
      "name": "python"
    }
  },
  "cells": [
    {
      "cell_type": "markdown",
      "metadata": {
        "id": "view-in-github",
        "colab_type": "text"
      },
      "source": [
        "<a href=\"https://colab.research.google.com/github/sruthipsuresh/best-sellers-analysis/blob/main/topicmodeling.ipynb\" target=\"_parent\"><img src=\"https://colab.research.google.com/assets/colab-badge.svg\" alt=\"Open In Colab\"/></a>"
      ]
    },
    {
      "cell_type": "code",
      "metadata": {
        "colab": {
          "base_uri": "https://localhost:8080/"
        },
        "id": "e3PFzhAG231D",
        "outputId": "b0924657-b3ea-4536-8b55-604536181b19"
      },
      "source": [
        "import pandas as pd\n",
        "import re\n",
        "from wordcloud import WordCloud\n",
        "import pandas as pd\n",
        "import numpy as np\n",
        "import seaborn as sns\n",
        "! pip install -U textblob\n",
        "from textblob import TextBlob\n",
        "from google.colab import files\n",
        "import matplotlib.pyplot as plt\n",
        "% matplotlib inline\n"
      ],
      "execution_count": 10,
      "outputs": [
        {
          "output_type": "stream",
          "text": [
            "Requirement already up-to-date: textblob in /usr/local/lib/python3.7/dist-packages (0.15.3)\n",
            "Requirement already satisfied, skipping upgrade: nltk>=3.1 in /usr/local/lib/python3.7/dist-packages (from textblob) (3.2.5)\n",
            "Requirement already satisfied, skipping upgrade: six in /usr/local/lib/python3.7/dist-packages (from nltk>=3.1->textblob) (1.15.0)\n"
          ],
          "name": "stdout"
        }
      ]
    },
    {
      "cell_type": "markdown",
      "metadata": {
        "id": "T4b7fQb34F8C"
      },
      "source": [
        "https://towardsdatascience.com/topic-modelling-in-python-with-nltk-and-gensim-4ef03213cd21\n"
      ]
    },
    {
      "cell_type": "code",
      "metadata": {
        "colab": {
          "base_uri": "https://localhost:8080/"
        },
        "id": "Db7UWnp14L38",
        "outputId": "a1041afc-7c97-4722-855c-fc1bbfe8d301"
      },
      "source": [
        "# Load \n",
        "nyt = pd.read_csv(\"/content/nytcleaned.csv\") #loading data\n",
        "nyt.head()\n",
        "nyt['results__books__title'] = nyt['results__books__title'].map(lambda x: re.sub('[,\\.!?]', '', x))\n",
        "# Convert the titles to lowercase\n",
        "nyt['results__books__title'] = nyt['results__books__title'].map(lambda x: x.lower())\n",
        "nyt['results__books__description'] = nyt['results__books__description'].map(lambda x: re.sub('[,\\.!?]', '', x))\n",
        "# Convert the titles to lowercase\n",
        "nyt['results__books__description'] = nyt['results__books__description'].map(lambda x: x.lower())\n",
        "titlemodel = nyt['results__books__title']\n",
        "titlemodel.to_csv('titlemodel.csv')"
      ],
      "execution_count": 17,
      "outputs": [
        {
          "output_type": "stream",
          "text": [
            "<input>:4: DeprecationWarning: invalid escape sequence \\.\n",
            "<input>:4: DeprecationWarning: invalid escape sequence \\.\n",
            "<input>:4: DeprecationWarning: invalid escape sequence \\.\n",
            "<input>:4: DeprecationWarning: invalid escape sequence \\.\n",
            "<input>:7: DeprecationWarning: invalid escape sequence \\.\n",
            "<input>:4: DeprecationWarning: invalid escape sequence \\.\n",
            "<input>:7: DeprecationWarning: invalid escape sequence \\.\n",
            "<input>:4: DeprecationWarning: invalid escape sequence \\.\n",
            "<input>:7: DeprecationWarning: invalid escape sequence \\.\n",
            "<input>:4: DeprecationWarning: invalid escape sequence \\.\n",
            "<input>:7: DeprecationWarning: invalid escape sequence \\.\n",
            "<input>:4: DeprecationWarning: invalid escape sequence \\.\n",
            "<input>:7: DeprecationWarning: invalid escape sequence \\.\n",
            "<ipython-input-17-31dce65ab50d>:4: DeprecationWarning: invalid escape sequence \\.\n",
            "  nyt['results__books__title'] = nyt['results__books__title'].map(lambda x: re.sub('[,\\.!?]', '', x))\n",
            "<ipython-input-17-31dce65ab50d>:7: DeprecationWarning: invalid escape sequence \\.\n",
            "  nyt['results__books__description'] = nyt['results__books__description'].map(lambda x: re.sub('[,\\.!?]', '', x))\n"
          ],
          "name": "stderr"
        }
      ]
    },
    {
      "cell_type": "code",
      "metadata": {
        "colab": {
          "base_uri": "https://localhost:8080/"
        },
        "id": "dvCIn-bg5WXG",
        "outputId": "f0421832-f93d-42b3-8696-966577b50629"
      },
      "source": [
        "import gensim\n",
        "from gensim.utils import simple_preprocess\n",
        "import nltk\n",
        "nltk.download('stopwords')\n",
        "from nltk.corpus import stopwords\n",
        "import nltk\n",
        "nltk.download('wordnet')\n",
        "\n",
        "nltk.download('stopwords')\n",
        "stop_words = stopwords.words('english')\n",
        "stop_words.extend(['from', 'you', 'yall'])\n",
        "def sent_to_words(sentences):\n",
        "    for sentence in sentences:\n",
        "        # deacc=True removes punctuations\n",
        "        yield(gensim.utils.simple_preprocess(str(sentence), deacc=True))\n",
        "def remove_stopwords(texts):\n",
        "    return [[word for word in simple_preprocess(str(doc)) \n",
        "             if word not in stop_words] for doc in texts]\n",
        "data = nyt.results__books__title.values.tolist() # switch based on what is needed\n",
        "data_words = list(sent_to_words(data))\n",
        "# remove stop words\n",
        "data_words = remove_stopwords(data_words)\n",
        "print(data_words[:1][0][:30])\n",
        "\n",
        "import gensim.corpora as corpora\n",
        "# Create Dictionary\n",
        "id2word = corpora.Dictionary(data_words)\n",
        "# Create Corpus\n",
        "texts = data_words\n",
        "# Term Document Frequency\n",
        "corpus = [id2word.doc2bow(text) for text in texts]\n",
        "# View\n",
        "print(corpus[:1][0][:30])\n"
      ],
      "execution_count": 18,
      "outputs": [
        {
          "output_type": "stream",
          "text": [
            "[nltk_data] Downloading package stopwords to /root/nltk_data...\n",
            "[nltk_data]   Package stopwords is already up-to-date!\n",
            "[nltk_data] Downloading package wordnet to /root/nltk_data...\n",
            "[nltk_data]   Package wordnet is already up-to-date!\n",
            "[nltk_data] Downloading package stopwords to /root/nltk_data...\n",
            "[nltk_data]   Package stopwords is already up-to-date!\n",
            "['happened']\n",
            "[(0, 1)]\n"
          ],
          "name": "stdout"
        }
      ]
    },
    {
      "cell_type": "code",
      "metadata": {
        "colab": {
          "base_uri": "https://localhost:8080/"
        },
        "id": "V9orF_0H5Zb4",
        "outputId": "2b2e3992-3e19-4c88-da92-cfbf5001762c"
      },
      "source": [
        "from pprint import pprint\n",
        "# number of topics\n",
        "num_topics = 10\n",
        "# Build LDA model\n",
        "lda_model = gensim.models.LdaMulticore(corpus=corpus,\n",
        "                                       id2word=id2word,\n",
        "                                       num_topics=num_topics)\n",
        "# Print the Keyword in the 10 topics\n",
        "pprint(lda_model.print_topics())\n",
        "doc_lda = lda_model[corpus]\n"
      ],
      "execution_count": 20,
      "outputs": [
        {
          "output_type": "stream",
          "text": [
            "[(0,\n",
            "  '0.262*\"mart\" + 0.262*\"crying\" + 0.024*\"happened\" + 0.024*\"caste\" + '\n",
            "  '0.024*\"untamed\" + 0.024*\"nomadland\" + 0.024*\"antitrust\" + '\n",
            "  '0.024*\"greenlights\" + 0.024*\"think\" + 0.024*\"thing\"'),\n",
            " (1,\n",
            "  '0.262*\"breaker\" + 0.262*\"code\" + 0.024*\"untamed\" + 0.024*\"caste\" + '\n",
            "  '0.024*\"happened\" + 0.024*\"greenlights\" + 0.024*\"nomadland\" + '\n",
            "  '0.024*\"antitrust\" + 0.024*\"think\" + 0.024*\"pain\"'),\n",
            " (2,\n",
            "  '0.262*\"many\" + 0.262*\"one\" + 0.024*\"happened\" + 0.024*\"think\" + '\n",
            "  '0.024*\"caste\" + 0.024*\"nomadland\" + 0.024*\"antitrust\" + 0.024*\"untamed\" + '\n",
            "  '0.024*\"greenlights\" + 0.024*\"mart\"'),\n",
            " (3,\n",
            "  '0.344*\"nomadland\" + 0.031*\"untamed\" + 0.031*\"happened\" + 0.031*\"think\" + '\n",
            "  '0.031*\"greenlights\" + 0.031*\"caste\" + 0.031*\"antitrust\" + 0.031*\"code\" + '\n",
            "  '0.031*\"thing\" + 0.031*\"best\"'),\n",
            " (4,\n",
            "  '0.262*\"greenlights\" + 0.262*\"antitrust\" + 0.024*\"happened\" + '\n",
            "  '0.024*\"untamed\" + 0.024*\"caste\" + 0.024*\"nomadland\" + 0.024*\"think\" + '\n",
            "  '0.024*\"pain\" + 0.024*\"thing\" + 0.024*\"mafia\"'),\n",
            " (5,\n",
            "  '0.262*\"best\" + 0.262*\"thing\" + 0.024*\"happened\" + 0.024*\"caste\" + '\n",
            "  '0.024*\"untamed\" + 0.024*\"nomadland\" + 0.024*\"antitrust\" + '\n",
            "  '0.024*\"greenlights\" + 0.024*\"mafia\" + 0.024*\"think\"'),\n",
            " (6,\n",
            "  '0.262*\"caste\" + 0.262*\"untamed\" + 0.024*\"happened\" + 0.024*\"nomadland\" + '\n",
            "  '0.024*\"greenlights\" + 0.024*\"think\" + 0.024*\"antitrust\" + 0.024*\"thing\" + '\n",
            "  '0.024*\"pain\" + 0.024*\"code\"'),\n",
            " (7,\n",
            "  '0.262*\"think\" + 0.262*\"happened\" + 0.024*\"untamed\" + 0.024*\"caste\" + '\n",
            "  '0.024*\"nomadland\" + 0.024*\"antitrust\" + 0.024*\"greenlights\" + 0.024*\"pain\" '\n",
            "  '+ 0.024*\"thing\" + 0.024*\"crying\"'),\n",
            " (8,\n",
            "  '0.262*\"empire\" + 0.262*\"pain\" + 0.024*\"happened\" + 0.024*\"antitrust\" + '\n",
            "  '0.024*\"think\" + 0.024*\"untamed\" + 0.024*\"caste\" + 0.024*\"nomadland\" + '\n",
            "  '0.024*\"greenlights\" + 0.024*\"thing\"'),\n",
            " (9,\n",
            "  '0.153*\"score\" + 0.153*\"body\" + 0.153*\"keeps\" + 0.153*\"bomber\" + '\n",
            "  '0.153*\"mafia\" + 0.014*\"antitrust\" + 0.014*\"untamed\" + 0.014*\"think\" + '\n",
            "  '0.014*\"happened\" + 0.014*\"nomadland\"')]\n"
          ],
          "name": "stdout"
        },
        {
          "output_type": "stream",
          "text": [
            "/usr/local/lib/python3.7/dist-packages/gensim/models/ldamodel.py:1077: DeprecationWarning: Calling np.sum(generator) is deprecated, and in the future will give a different result. Use np.sum(np.fromiter(generator)) or the python sum builtin instead.\n",
            "  score += np.sum(cnt * logsumexp(Elogthetad + Elogbeta[:, int(id)]) for id, cnt in doc)\n",
            "/usr/local/lib/python3.7/dist-packages/gensim/models/ldamodel.py:1077: DeprecationWarning: Calling np.sum(generator) is deprecated, and in the future will give a different result. Use np.sum(np.fromiter(generator)) or the python sum builtin instead.\n",
            "  score += np.sum(cnt * logsumexp(Elogthetad + Elogbeta[:, int(id)]) for id, cnt in doc)\n",
            "/usr/local/lib/python3.7/dist-packages/gensim/models/ldamodel.py:1077: DeprecationWarning: Calling np.sum(generator) is deprecated, and in the future will give a different result. Use np.sum(np.fromiter(generator)) or the python sum builtin instead.\n",
            "  score += np.sum(cnt * logsumexp(Elogthetad + Elogbeta[:, int(id)]) for id, cnt in doc)\n",
            "/usr/local/lib/python3.7/dist-packages/gensim/models/ldamodel.py:1077: DeprecationWarning: Calling np.sum(generator) is deprecated, and in the future will give a different result. Use np.sum(np.fromiter(generator)) or the python sum builtin instead.\n",
            "  score += np.sum(cnt * logsumexp(Elogthetad + Elogbeta[:, int(id)]) for id, cnt in doc)\n",
            "/usr/local/lib/python3.7/dist-packages/gensim/models/ldamodel.py:1077: DeprecationWarning: Calling np.sum(generator) is deprecated, and in the future will give a different result. Use np.sum(np.fromiter(generator)) or the python sum builtin instead.\n",
            "  score += np.sum(cnt * logsumexp(Elogthetad + Elogbeta[:, int(id)]) for id, cnt in doc)\n",
            "/usr/local/lib/python3.7/dist-packages/gensim/models/ldamodel.py:1077: DeprecationWarning: Calling np.sum(generator) is deprecated, and in the future will give a different result. Use np.sum(np.fromiter(generator)) or the python sum builtin instead.\n",
            "  score += np.sum(cnt * logsumexp(Elogthetad + Elogbeta[:, int(id)]) for id, cnt in doc)\n",
            "/usr/local/lib/python3.7/dist-packages/gensim/models/ldamodel.py:1077: DeprecationWarning: Calling np.sum(generator) is deprecated, and in the future will give a different result. Use np.sum(np.fromiter(generator)) or the python sum builtin instead.\n",
            "  score += np.sum(cnt * logsumexp(Elogthetad + Elogbeta[:, int(id)]) for id, cnt in doc)\n",
            "/usr/local/lib/python3.7/dist-packages/gensim/models/ldamodel.py:1077: DeprecationWarning: Calling np.sum(generator) is deprecated, and in the future will give a different result. Use np.sum(np.fromiter(generator)) or the python sum builtin instead.\n",
            "  score += np.sum(cnt * logsumexp(Elogthetad + Elogbeta[:, int(id)]) for id, cnt in doc)\n",
            "/usr/local/lib/python3.7/dist-packages/gensim/models/ldamodel.py:1077: DeprecationWarning: Calling np.sum(generator) is deprecated, and in the future will give a different result. Use np.sum(np.fromiter(generator)) or the python sum builtin instead.\n",
            "  score += np.sum(cnt * logsumexp(Elogthetad + Elogbeta[:, int(id)]) for id, cnt in doc)\n",
            "/usr/local/lib/python3.7/dist-packages/gensim/models/ldamodel.py:1077: DeprecationWarning: Calling np.sum(generator) is deprecated, and in the future will give a different result. Use np.sum(np.fromiter(generator)) or the python sum builtin instead.\n",
            "  score += np.sum(cnt * logsumexp(Elogthetad + Elogbeta[:, int(id)]) for id, cnt in doc)\n",
            "/usr/local/lib/python3.7/dist-packages/gensim/models/ldamodel.py:1077: DeprecationWarning: Calling np.sum(generator) is deprecated, and in the future will give a different result. Use np.sum(np.fromiter(generator)) or the python sum builtin instead.\n",
            "  score += np.sum(cnt * logsumexp(Elogthetad + Elogbeta[:, int(id)]) for id, cnt in doc)\n",
            "/usr/local/lib/python3.7/dist-packages/gensim/models/ldamodel.py:1077: DeprecationWarning: Calling np.sum(generator) is deprecated, and in the future will give a different result. Use np.sum(np.fromiter(generator)) or the python sum builtin instead.\n",
            "  score += np.sum(cnt * logsumexp(Elogthetad + Elogbeta[:, int(id)]) for id, cnt in doc)\n",
            "/usr/local/lib/python3.7/dist-packages/gensim/models/ldamodel.py:1077: DeprecationWarning: Calling np.sum(generator) is deprecated, and in the future will give a different result. Use np.sum(np.fromiter(generator)) or the python sum builtin instead.\n",
            "  score += np.sum(cnt * logsumexp(Elogthetad + Elogbeta[:, int(id)]) for id, cnt in doc)\n",
            "/usr/local/lib/python3.7/dist-packages/gensim/models/ldamodel.py:1077: DeprecationWarning: Calling np.sum(generator) is deprecated, and in the future will give a different result. Use np.sum(np.fromiter(generator)) or the python sum builtin instead.\n",
            "  score += np.sum(cnt * logsumexp(Elogthetad + Elogbeta[:, int(id)]) for id, cnt in doc)\n",
            "/usr/local/lib/python3.7/dist-packages/gensim/models/ldamodel.py:1077: DeprecationWarning: Calling np.sum(generator) is deprecated, and in the future will give a different result. Use np.sum(np.fromiter(generator)) or the python sum builtin instead.\n",
            "  score += np.sum(cnt * logsumexp(Elogthetad + Elogbeta[:, int(id)]) for id, cnt in doc)\n"
          ],
          "name": "stderr"
        }
      ]
    },
    {
      "cell_type": "code",
      "metadata": {
        "colab": {
          "base_uri": "https://localhost:8080/"
        },
        "id": "74Ogts5W8COa",
        "outputId": "0992b1a2-a8d5-46e4-bbc3-321173651780"
      },
      "source": [
        "!pip install gensim\n",
        "!pip install pyLDAvis\n"
      ],
      "execution_count": 14,
      "outputs": [
        {
          "output_type": "stream",
          "text": [
            "Requirement already satisfied: gensim in /usr/local/lib/python3.7/dist-packages (3.6.0)\n",
            "Requirement already satisfied: six>=1.5.0 in /usr/local/lib/python3.7/dist-packages (from gensim) (1.15.0)\n",
            "Requirement already satisfied: scipy>=0.18.1 in /usr/local/lib/python3.7/dist-packages (from gensim) (1.4.1)\n",
            "Requirement already satisfied: numpy>=1.11.3 in /usr/local/lib/python3.7/dist-packages (from gensim) (1.20.3)\n",
            "Requirement already satisfied: smart-open>=1.2.1 in /usr/local/lib/python3.7/dist-packages (from gensim) (5.0.0)\n",
            "Requirement already satisfied: pyLDAvis in /usr/local/lib/python3.7/dist-packages (3.3.1)\n",
            "Requirement already satisfied: jinja2 in /usr/local/lib/python3.7/dist-packages (from pyLDAvis) (2.11.3)\n",
            "Requirement already satisfied: pandas>=1.2.0 in /usr/local/lib/python3.7/dist-packages (from pyLDAvis) (1.2.4)\n",
            "Requirement already satisfied: scipy in /usr/local/lib/python3.7/dist-packages (from pyLDAvis) (1.4.1)\n",
            "Requirement already satisfied: future in /usr/local/lib/python3.7/dist-packages (from pyLDAvis) (0.16.0)\n",
            "Requirement already satisfied: scikit-learn in /usr/local/lib/python3.7/dist-packages (from pyLDAvis) (0.22.2.post1)\n",
            "Requirement already satisfied: gensim in /usr/local/lib/python3.7/dist-packages (from pyLDAvis) (3.6.0)\n",
            "Requirement already satisfied: joblib in /usr/local/lib/python3.7/dist-packages (from pyLDAvis) (1.0.1)\n",
            "Requirement already satisfied: setuptools in /usr/local/lib/python3.7/dist-packages (from pyLDAvis) (56.1.0)\n",
            "Requirement already satisfied: sklearn in /usr/local/lib/python3.7/dist-packages (from pyLDAvis) (0.0)\n",
            "Requirement already satisfied: numpy>=1.20.0 in /usr/local/lib/python3.7/dist-packages (from pyLDAvis) (1.20.3)\n",
            "Requirement already satisfied: numexpr in /usr/local/lib/python3.7/dist-packages (from pyLDAvis) (2.7.3)\n",
            "Requirement already satisfied: funcy in /usr/local/lib/python3.7/dist-packages (from pyLDAvis) (1.16)\n",
            "Requirement already satisfied: MarkupSafe>=0.23 in /usr/local/lib/python3.7/dist-packages (from jinja2->pyLDAvis) (1.1.1)\n",
            "Requirement already satisfied: python-dateutil>=2.7.3 in /usr/local/lib/python3.7/dist-packages (from pandas>=1.2.0->pyLDAvis) (2.8.1)\n",
            "Requirement already satisfied: pytz>=2017.3 in /usr/local/lib/python3.7/dist-packages (from pandas>=1.2.0->pyLDAvis) (2018.9)\n",
            "Requirement already satisfied: six>=1.5.0 in /usr/local/lib/python3.7/dist-packages (from gensim->pyLDAvis) (1.15.0)\n",
            "Requirement already satisfied: smart-open>=1.2.1 in /usr/local/lib/python3.7/dist-packages (from gensim->pyLDAvis) (5.0.0)\n"
          ],
          "name": "stdout"
        }
      ]
    },
    {
      "cell_type": "markdown",
      "metadata": {
        "id": "xDtvOZ0V8FT8"
      },
      "source": [
        "https://colab.research.google.com/github/grantmlong/itds2018/blob/master/lecture-12/DataDive-Lecture12.ipynb#scrollTo=GDsybaWp7-xH"
      ]
    },
    {
      "cell_type": "code",
      "metadata": {
        "id": "AD96lC9g72ph"
      },
      "source": [
        "from gensim import corpora\n",
        "from gensim.models.ldamodel import LdaModel\n",
        "\n",
        "import pyLDAvis.gensim_models\n",
        "import pickle \n",
        "import pyLDAvis\n",
        "# Visualize the topics\n",
        "pyLDAvis.enable_notebook()\n",
        "lda_display = pyLDAvis.gensim_models.prepare(lda_model, corpus, id2word, sort_topics=False)\n",
        "pyLDAvis.display(lda_display)\n",
        "\n",
        "pyLDAvis.save_html(lda_display, 'nytonly_title.html')\n"
      ],
      "execution_count": 21,
      "outputs": []
    },
    {
      "cell_type": "code",
      "metadata": {
        "id": "loDlqDxKClDb"
      },
      "source": [
        ""
      ],
      "execution_count": null,
      "outputs": []
    }
  ]
}