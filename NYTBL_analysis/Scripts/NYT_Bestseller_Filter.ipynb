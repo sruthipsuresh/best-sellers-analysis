{
  "nbformat": 4,
  "nbformat_minor": 0,
  "metadata": {
    "colab": {
      "name": "NYT_Scraping.ipynb",
      "provenance": [],
      "authorship_tag": "ABX9TyMb4LIDJiE81cQIvmffYWr+",
      "include_colab_link": true
    },
    "kernelspec": {
      "name": "python3",
      "display_name": "Python 3"
    },
    "language_info": {
      "name": "python"
    }
  },
  "cells": [
    {
      "cell_type": "markdown",
      "metadata": {
        "id": "view-in-github",
        "colab_type": "text"
      },
      "source": [
        "<a href=\"https://colab.research.google.com/github/sruthipsuresh/best-sellers-analysis/blob/main/NYTBL_analysis/Scripts/NYT_Bestseller_Filter.ipynb\" target=\"_parent\"><img src=\"https://colab.research.google.com/assets/colab-badge.svg\" alt=\"Open In Colab\"/></a>"
      ]
    },
    {
      "cell_type": "code",
      "metadata": {
        "id": "PlO-kIF8-ibK"
      },
      "source": [
        "## NEW YORK TIMES SCRAPING\n",
        "import os\n",
        "import json\n",
        "import time\n",
        "import requests\n",
        "import datetime\n",
        "import dateutil\n",
        "from dateutil.relativedelta import relativedelta\n",
        "import pandas as pd"
      ],
      "execution_count": 4,
      "outputs": []
    },
    {
      "cell_type": "code",
      "metadata": {
        "id": "AnxNSZIa-4f4"
      },
      "source": [
        "# Clean up genres and only query for those\n",
        "genres = pd.read_csv(\"/content/NYTbookgenres.csv\") #loading list data\n",
        "#First remove columns which are remnants from json\n",
        "del genres['status']\n",
        "del genres['copyright']\n",
        "del genres['num_results']\n",
        "genres.head()\n",
        "# As per genres.md, create a list of so-called \"Stop words\"\n",
        "stop = ['Advice, How-To & Miscellaneous', 'Hardcover Graphic Books', 'Manga', 'Paperback Graphic Books', 'Children’s Chapter Books','Children’s Middle Grade', 'Children’s Middle Grade E-Book', 'Children’s Middle Grade Hardcover','Children’s Middle Grade Paperback','Children’s Paperback Books', 'Children’s Picture Books', 'Children’s Picture Books', 'Animals', 'Audio Fiction', 'Audio Nonfiction', 'Business', 'Crime and Punishment', 'Celebrities', 'Espionage', 'Expeditions', 'Fashion, Manners and Customs', 'Food and Diet','Games and Activities','Graphic Books and Manga','Health','Humor','Indigenous Americans','Love and Relationships','Mass Market','Parenthood and Family','Sports and Fitness','Travel']\n",
        "for i in stop:\n",
        "  genres = genres[genres['results__display_name'] != i]\n",
        "filteredgenres = genres\n",
        "filteredgenres.head()\n",
        "filteredgenres.to_csv('filteredgenres.csv')"
      ],
      "execution_count": 5,
      "outputs": []
    },
    {
      "cell_type": "code",
      "metadata": {
        "colab": {
          "base_uri": "https://localhost:8080/",
          "height": 130
        },
        "id": "jKuxBf2MG9tx",
        "outputId": "c9f54c71-e4b0-4b64-d843-e6d5b6a00b06"
      },
      "source": [
        ""
      ],
      "execution_count": 45,
      "outputs": [
        {
          "output_type": "error",
          "ename": "SyntaxError",
          "evalue": "ignored",
          "traceback": [
            "\u001b[0;36m  File \u001b[0;32m\"<ipython-input-45-18816dcfc336>\"\u001b[0;36m, line \u001b[0;32m2\u001b[0m\n\u001b[0;31m    from json-flatten import flatten\u001b[0m\n\u001b[0m             ^\u001b[0m\n\u001b[0;31mSyntaxError\u001b[0m\u001b[0;31m:\u001b[0m invalid syntax\n"
          ]
        }
      ]
    },
    {
      "cell_type": "code",
      "metadata": {
        "colab": {
          "base_uri": "https://localhost:8080/",
          "height": 375
        },
        "id": "mVv9bKbj-miN",
        "outputId": "65a003e9-843f-44bd-a7ae-efa1ff40c135"
      },
      "source": [
        "# Now, to use NYT information and construct multiple datasets, and then join them.\n",
        "# An example:\n",
        "#r1 = pd.read_json('https://api.nytimes.com/svc/books/v3/lists/current/combined-print-and-e-book-fiction.json?api-key=1C9EFT4ikGhfCevT4RHR8GZqp6T9NAHm')\n",
        "#r1 = r1.reindex(columns=['results']).iloc[1]\n",
        "#r1 = r1.to_frame()\n",
        "\n",
        "#with open('test.txt', 'w') as outfile:\n",
        " #   json.dump(r3, outfile)\n"
      ],
      "execution_count": 57,
      "outputs": [
        {
          "output_type": "error",
          "ename": "ValueError",
          "evalue": "ignored",
          "traceback": [
            "\u001b[0;31m---------------------------------------------------------------------------\u001b[0m",
            "\u001b[0;31mValueError\u001b[0m                                Traceback (most recent call last)",
            "\u001b[0;32m<ipython-input-57-8f4452593c26>\u001b[0m in \u001b[0;36m<module>\u001b[0;34m()\u001b[0m\n\u001b[1;32m      8\u001b[0m \u001b[0mr2\u001b[0m \u001b[0;34m=\u001b[0m \u001b[0mr2\u001b[0m\u001b[0;34m.\u001b[0m\u001b[0mto_frame\u001b[0m\u001b[0;34m(\u001b[0m\u001b[0;34m)\u001b[0m\u001b[0;34m\u001b[0m\u001b[0;34m\u001b[0m\u001b[0m\n\u001b[1;32m      9\u001b[0m \u001b[0mr3\u001b[0m \u001b[0;34m=\u001b[0m \u001b[0mpd\u001b[0m\u001b[0;34m.\u001b[0m\u001b[0mconcat\u001b[0m\u001b[0;34m(\u001b[0m\u001b[0;34m[\u001b[0m\u001b[0mr1\u001b[0m\u001b[0;34m,\u001b[0m\u001b[0mr2\u001b[0m\u001b[0;34m]\u001b[0m\u001b[0;34m)\u001b[0m\u001b[0;34m\u001b[0m\u001b[0;34m\u001b[0m\u001b[0m\n\u001b[0;32m---> 10\u001b[0;31m \u001b[0mr3\u001b[0m \u001b[0;34m=\u001b[0m \u001b[0mr3\u001b[0m\u001b[0;34m.\u001b[0m\u001b[0mto_json\u001b[0m\u001b[0;34m(\u001b[0m\u001b[0;34m)\u001b[0m\u001b[0;34m\u001b[0m\u001b[0;34m\u001b[0m\u001b[0m\n\u001b[0m\u001b[1;32m     11\u001b[0m \u001b[0;34m\u001b[0m\u001b[0m\n\u001b[1;32m     12\u001b[0m \u001b[0;32mwith\u001b[0m \u001b[0mopen\u001b[0m\u001b[0;34m(\u001b[0m\u001b[0;34m'test.txt'\u001b[0m\u001b[0;34m,\u001b[0m \u001b[0;34m'w'\u001b[0m\u001b[0;34m)\u001b[0m \u001b[0;32mas\u001b[0m \u001b[0moutfile\u001b[0m\u001b[0;34m:\u001b[0m\u001b[0;34m\u001b[0m\u001b[0;34m\u001b[0m\u001b[0m\n",
            "\u001b[0;32m/usr/local/lib/python3.7/dist-packages/pandas/core/generic.py\u001b[0m in \u001b[0;36mto_json\u001b[0;34m(self, path_or_buf, orient, date_format, double_precision, force_ascii, date_unit, default_handler, lines, compression, index, indent)\u001b[0m\n\u001b[1;32m   2306\u001b[0m             \u001b[0mcompression\u001b[0m\u001b[0;34m=\u001b[0m\u001b[0mcompression\u001b[0m\u001b[0;34m,\u001b[0m\u001b[0;34m\u001b[0m\u001b[0;34m\u001b[0m\u001b[0m\n\u001b[1;32m   2307\u001b[0m             \u001b[0mindex\u001b[0m\u001b[0;34m=\u001b[0m\u001b[0mindex\u001b[0m\u001b[0;34m,\u001b[0m\u001b[0;34m\u001b[0m\u001b[0;34m\u001b[0m\u001b[0m\n\u001b[0;32m-> 2308\u001b[0;31m             \u001b[0mindent\u001b[0m\u001b[0;34m=\u001b[0m\u001b[0mindent\u001b[0m\u001b[0;34m,\u001b[0m\u001b[0;34m\u001b[0m\u001b[0;34m\u001b[0m\u001b[0m\n\u001b[0m\u001b[1;32m   2309\u001b[0m         )\n\u001b[1;32m   2310\u001b[0m \u001b[0;34m\u001b[0m\u001b[0m\n",
            "\u001b[0;32m/usr/local/lib/python3.7/dist-packages/pandas/io/json/_json.py\u001b[0m in \u001b[0;36mto_json\u001b[0;34m(path_or_buf, obj, orient, date_format, double_precision, force_ascii, date_unit, default_handler, lines, compression, index, indent)\u001b[0m\n\u001b[1;32m     82\u001b[0m         \u001b[0mdefault_handler\u001b[0m\u001b[0;34m=\u001b[0m\u001b[0mdefault_handler\u001b[0m\u001b[0;34m,\u001b[0m\u001b[0;34m\u001b[0m\u001b[0;34m\u001b[0m\u001b[0m\n\u001b[1;32m     83\u001b[0m         \u001b[0mindex\u001b[0m\u001b[0;34m=\u001b[0m\u001b[0mindex\u001b[0m\u001b[0;34m,\u001b[0m\u001b[0;34m\u001b[0m\u001b[0;34m\u001b[0m\u001b[0m\n\u001b[0;32m---> 84\u001b[0;31m         \u001b[0mindent\u001b[0m\u001b[0;34m=\u001b[0m\u001b[0mindent\u001b[0m\u001b[0;34m,\u001b[0m\u001b[0;34m\u001b[0m\u001b[0;34m\u001b[0m\u001b[0m\n\u001b[0m\u001b[1;32m     85\u001b[0m     ).write()\n\u001b[1;32m     86\u001b[0m \u001b[0;34m\u001b[0m\u001b[0m\n",
            "\u001b[0;32m/usr/local/lib/python3.7/dist-packages/pandas/io/json/_json.py\u001b[0m in \u001b[0;36m__init__\u001b[0;34m(self, obj, orient, date_format, double_precision, ensure_ascii, date_unit, index, default_handler, indent)\u001b[0m\n\u001b[1;32m    128\u001b[0m \u001b[0;34m\u001b[0m\u001b[0m\n\u001b[1;32m    129\u001b[0m         \u001b[0mself\u001b[0m\u001b[0;34m.\u001b[0m\u001b[0mis_copy\u001b[0m \u001b[0;34m=\u001b[0m \u001b[0;32mNone\u001b[0m\u001b[0;34m\u001b[0m\u001b[0;34m\u001b[0m\u001b[0m\n\u001b[0;32m--> 130\u001b[0;31m         \u001b[0mself\u001b[0m\u001b[0;34m.\u001b[0m\u001b[0m_format_axes\u001b[0m\u001b[0;34m(\u001b[0m\u001b[0;34m)\u001b[0m\u001b[0;34m\u001b[0m\u001b[0;34m\u001b[0m\u001b[0m\n\u001b[0m\u001b[1;32m    131\u001b[0m \u001b[0;34m\u001b[0m\u001b[0m\n\u001b[1;32m    132\u001b[0m     \u001b[0;32mdef\u001b[0m \u001b[0m_format_axes\u001b[0m\u001b[0;34m(\u001b[0m\u001b[0mself\u001b[0m\u001b[0;34m)\u001b[0m\u001b[0;34m:\u001b[0m\u001b[0;34m\u001b[0m\u001b[0;34m\u001b[0m\u001b[0m\n",
            "\u001b[0;32m/usr/local/lib/python3.7/dist-packages/pandas/io/json/_json.py\u001b[0m in \u001b[0;36m_format_axes\u001b[0;34m(self)\u001b[0m\n\u001b[1;32m    209\u001b[0m         \u001b[0;32mif\u001b[0m \u001b[0;32mnot\u001b[0m \u001b[0mself\u001b[0m\u001b[0;34m.\u001b[0m\u001b[0mobj\u001b[0m\u001b[0;34m.\u001b[0m\u001b[0mindex\u001b[0m\u001b[0;34m.\u001b[0m\u001b[0mis_unique\u001b[0m \u001b[0;32mand\u001b[0m \u001b[0mself\u001b[0m\u001b[0;34m.\u001b[0m\u001b[0morient\u001b[0m \u001b[0;32min\u001b[0m \u001b[0;34m(\u001b[0m\u001b[0;34m\"index\"\u001b[0m\u001b[0;34m,\u001b[0m \u001b[0;34m\"columns\"\u001b[0m\u001b[0;34m)\u001b[0m\u001b[0;34m:\u001b[0m\u001b[0;34m\u001b[0m\u001b[0;34m\u001b[0m\u001b[0m\n\u001b[1;32m    210\u001b[0m             raise ValueError(\n\u001b[0;32m--> 211\u001b[0;31m                 \u001b[0;34mf\"DataFrame index must be unique for orient='{self.orient}'.\"\u001b[0m\u001b[0;34m\u001b[0m\u001b[0;34m\u001b[0m\u001b[0m\n\u001b[0m\u001b[1;32m    212\u001b[0m             )\n\u001b[1;32m    213\u001b[0m         if not self.obj.columns.is_unique and self.orient in (\n",
            "\u001b[0;31mValueError\u001b[0m: DataFrame index must be unique for orient='columns'."
          ]
        }
      ]
    },
    {
      "cell_type": "code",
      "metadata": {
        "colab": {
          "base_uri": "https://localhost:8080/"
        },
        "id": "9xCebXn__O-b",
        "outputId": "f100d9ce-6e56-4eef-b68e-aef6e491c5fd"
      },
      "source": [
        "overall = requests.get('https://api.nytimes.com/svc/books/v3/lists/overview.json?api-key=1C9EFT4ikGhfCevT4RHR8GZqp6T9NAHm').json()\n",
        "with open('overall.txt', 'w') as outfile:\n",
        "    json.dump(overall, outfile)\n",
        "overallcsv = pd.read_csv(\"/content/overall.csv\") #loading list data\n",
        "print(overallcsv)"
      ],
      "execution_count": 123,
      "outputs": [
        {
          "output_type": "stream",
          "text": [
            "    status  ...              results__lists__books__buy_links__url\n",
            "0       OK  ...  https://www.amazon.com/dp/059346527X?tag=NYTBS...\n",
            "1      NaN  ...  https://du-gae-books-dot-nyt-du-prd.appspot.co...\n",
            "2      NaN  ...  https://www.anrdoezrs.net/click-7990613-118195...\n",
            "3      NaN  ...  https://du-gae-books-dot-nyt-du-prd.appspot.co...\n",
            "4      NaN  ...  https://du-gae-books-dot-nyt-du-prd.appspot.co...\n",
            "..     ...  ...                                                ...\n",
            "535    NaN  ...  https://du-gae-books-dot-nyt-du-prd.appspot.co...\n",
            "536    NaN  ...  https://www.anrdoezrs.net/click-7990613-118195...\n",
            "537    NaN  ...  https://du-gae-books-dot-nyt-du-prd.appspot.co...\n",
            "538    NaN  ...  https://du-gae-books-dot-nyt-du-prd.appspot.co...\n",
            "539    NaN  ...  https://du-gae-books-dot-nyt-du-prd.appspot.co...\n",
            "\n",
            "[540 rows x 42 columns]\n"
          ],
          "name": "stdout"
        }
      ]
    },
    {
      "cell_type": "code",
      "metadata": {
        "colab": {
          "base_uri": "https://localhost:8080/"
        },
        "id": "4R33Qka44KTR",
        "outputId": "b0b300e9-b472-401c-88b3-c8fa18857546"
      },
      "source": [
        "# Cleaning data, first obtain locations of the different lists.\n",
        "# Cleaning data, first obtain locations of the different lists.\n",
        "filter = overallcsv[overallcsv.results__lists__list_name.notnull()] # Filter to obtain indices\n",
        "filter = filter.results__lists__list_name # Filter only one column\n",
        "stop = ['Advice How-To & Miscellaneous', 'Hardcover Graphic Books', 'Manga', 'Paperback Graphic Books', 'Children’s Chapter Books','Children’s Middle Grade', 'Children’s Middle Grade E-Book', 'Childrens Middle Grade Hardcover','Childrens Middle Grade Paperback','Children’s Paperback Books', 'Children’s Picture Books', 'Picture Books', 'Animals', 'Audio Fiction', 'Audio Nonfiction', 'Business', 'Crime and Punishment', 'Celebrities', 'Espionage', 'Expeditions', 'Fashion, Manners and Customs', 'Food and Diet','Games and Activities','Graphic Books and Manga','Health','Humor','Indigenous Americans','Love and Relationships','Mass Market','Parenthood and Family','Sports and Fitness','Travel', 'Series Books', 'Middle Grade Paperback Monthly']\n",
        "keep = pd.Series(filter)\n",
        "for i in stop:\n",
        "  keep = keep[keep != i]\n",
        "\n",
        "print(keep)\n"
      ],
      "execution_count": 109,
      "outputs": [
        {
          "output_type": "stream",
          "text": [
            "0         Combined Print and E-Book Fiction\n",
            "30     Combined Print and E-Book Nonfiction\n",
            "60                        Hardcover Fiction\n",
            "90                     Hardcover Nonfiction\n",
            "120                 Trade Fiction Paperback\n",
            "150                    Paperback Nonfiction\n",
            "180         Advice How-To and Miscellaneous\n",
            "300                   Young Adult Hardcover\n",
            "390                          Business Books\n",
            "450                     Mass Market Monthly\n",
            "510           Young Adult Paperback Monthly\n",
            "Name: results__lists__list_name, dtype: object\n"
          ],
          "name": "stdout"
        }
      ]
    },
    {
      "cell_type": "code",
      "metadata": {
        "colab": {
          "base_uri": "https://localhost:8080/"
        },
        "id": "bktYkEVHHXom",
        "outputId": "8a6d7d67-fbb1-4b2f-ed12-02373a7acdc2"
      },
      "source": [
        "stop = set(filter) ^ set(keep) # Find differences in the keep and all genres list.\n",
        "stop = pd.DataFrame(list(stop))\n",
        "print(stop) # See the dropped books below."
      ],
      "execution_count": 119,
      "outputs": [
        {
          "output_type": "stream",
          "text": [
            "                                  0\n",
            "0    Middle Grade Paperback Monthly\n",
            "1                  Audio Nonfiction\n",
            "2                     Audio Fiction\n",
            "3                     Picture Books\n",
            "4  Childrens Middle Grade Hardcover\n",
            "5           Graphic Books and Manga\n",
            "6                      Series Books\n"
          ],
          "name": "stdout"
        }
      ]
    },
    {
      "cell_type": "code",
      "metadata": {
        "colab": {
          "base_uri": "https://localhost:8080/"
        },
        "id": "3t02e7otJ82T",
        "outputId": "96a67b41-44aa-42c5-8963-7b702b861dd7"
      },
      "source": [
        "print(filter)"
      ],
      "execution_count": 120,
      "outputs": [
        {
          "output_type": "stream",
          "text": [
            "0         Combined Print and E-Book Fiction\n",
            "30     Combined Print and E-Book Nonfiction\n",
            "60                        Hardcover Fiction\n",
            "90                     Hardcover Nonfiction\n",
            "120                 Trade Fiction Paperback\n",
            "150                    Paperback Nonfiction\n",
            "180         Advice How-To and Miscellaneous\n",
            "210        Childrens Middle Grade Hardcover\n",
            "240                           Picture Books\n",
            "270                            Series Books\n",
            "300                   Young Adult Hardcover\n",
            "330                           Audio Fiction\n",
            "360                        Audio Nonfiction\n",
            "390                          Business Books\n",
            "420                 Graphic Books and Manga\n",
            "450                     Mass Market Monthly\n",
            "480          Middle Grade Paperback Monthly\n",
            "510           Young Adult Paperback Monthly\n",
            "Name: results__lists__list_name, dtype: object\n"
          ],
          "name": "stdout"
        }
      ]
    },
    {
      "cell_type": "code",
      "metadata": {
        "colab": {
          "base_uri": "https://localhost:8080/"
        },
        "id": "BXrT6VRYJ-zE",
        "outputId": "e5940a0c-18f7-43ba-aa9f-b42ba8a2de71"
      },
      "source": [
        "## DROP 210-299\n",
        "## DROP 330-389, 420 - 449  abd 480-509\n",
        "filteredbooks = overallcsv\n",
        "filteredbooks = filteredbooks.drop(filteredbooks.index[210:299])\n",
        "filteredbooks = filteredbooks.drop(filteredbooks.index[330:389])\n",
        "filteredbooks = filteredbooks.drop(filteredbooks.index[420:449])\n",
        "filteredbooks = filteredbooks.drop(filteredbooks.index[480:509])\n",
        "print(filteredbooks)\n",
        "filteredbooks.to_csv('filteredbooks.csv')"
      ],
      "execution_count": 124,
      "outputs": [
        {
          "output_type": "stream",
          "text": [
            "    status  ...              results__lists__books__buy_links__url\n",
            "0       OK  ...  https://www.amazon.com/dp/059346527X?tag=NYTBS...\n",
            "1      NaN  ...  https://du-gae-books-dot-nyt-du-prd.appspot.co...\n",
            "2      NaN  ...  https://www.anrdoezrs.net/click-7990613-118195...\n",
            "3      NaN  ...  https://du-gae-books-dot-nyt-du-prd.appspot.co...\n",
            "4      NaN  ...  https://du-gae-books-dot-nyt-du-prd.appspot.co...\n",
            "..     ...  ...                                                ...\n",
            "535    NaN  ...  https://du-gae-books-dot-nyt-du-prd.appspot.co...\n",
            "536    NaN  ...  https://www.anrdoezrs.net/click-7990613-118195...\n",
            "537    NaN  ...  https://du-gae-books-dot-nyt-du-prd.appspot.co...\n",
            "538    NaN  ...  https://du-gae-books-dot-nyt-du-prd.appspot.co...\n",
            "539    NaN  ...  https://du-gae-books-dot-nyt-du-prd.appspot.co...\n",
            "\n",
            "[392 rows x 42 columns]\n"
          ],
          "name": "stdout"
        }
      ]
    }
  ]
}