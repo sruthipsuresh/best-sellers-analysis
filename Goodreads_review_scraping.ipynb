{
  "nbformat": 4,
  "nbformat_minor": 0,
  "metadata": {
    "colab": {
      "name": "Goodreads_review_scraping.ipynb",
      "provenance": [],
      "authorship_tag": "ABX9TyPod0l62U6ggnv4N8WbbmLe",
      "include_colab_link": true
    },
    "kernelspec": {
      "name": "python3",
      "display_name": "Python 3"
    },
    "language_info": {
      "name": "python"
    }
  },
  "cells": [
    {
      "cell_type": "markdown",
      "metadata": {
        "id": "view-in-github",
        "colab_type": "text"
      },
      "source": [
        "<a href=\"https://colab.research.google.com/github/sruthipsuresh/best-sellers-analysis/blob/main/Goodreads_review_scraping.ipynb\" target=\"_parent\"><img src=\"https://colab.research.google.com/assets/colab-badge.svg\" alt=\"Open In Colab\"/></a>"
      ]
    },
    {
      "cell_type": "code",
      "metadata": {
        "colab": {
          "base_uri": "https://localhost:8080/"
        },
        "id": "3raWyXtXhWhN",
        "outputId": "3c1e8a60-7da7-4b6c-d8e1-006817d1163b"
      },
      "source": [
        "! git clone https://github.com/andre-st/goodreads-toolbox.git && cd goodreads-toolbox \n"
      ],
      "execution_count": 3,
      "outputs": [
        {
          "output_type": "stream",
          "text": [
            "fatal: destination path 'goodreads-toolbox' already exists and is not an empty directory.\n"
          ],
          "name": "stdout"
        }
      ]
    },
    {
      "cell_type": "code",
      "metadata": {
        "colab": {
          "base_uri": "https://localhost:8080/"
        },
        "id": "xjcB0-vRhcwj",
        "outputId": "0d7b1dfb-5e5a-4795-be4c-e2b9be3e0459"
      },
      "source": [
        "% cd goodreads-toolbox/ \n"
      ],
      "execution_count": 8,
      "outputs": [
        {
          "output_type": "stream",
          "text": [
            "[Errno 2] No such file or directory: 'goodreads-toolbox/'\n",
            "/content/goodreads-toolbox\n",
            "perl -MCPAN -e 'install YAML::Any, List::MoreUtils, HTML::Entities, URI::Escape, Cache::FileCache, WWW::Curl::Easy, Text::CSV, Log::Any, IO::Prompter, Test::More, Test::Exception'\n",
            "\n",
            "CPAN.pm requires configuration, but most of it can be done automatically.\n",
            "If you answer 'no' below, you will enter an interactive dialog for each\n",
            "configuration option instead.\n",
            "\n",
            "Would you like to configure as much as possible automatically? [yes] Makefile:84: recipe for target 'deps' failed\n",
            "make: *** [deps] Interrupt\n",
            "^C\n"
          ],
          "name": "stdout"
        }
      ]
    },
    {
      "cell_type": "code",
      "metadata": {
        "colab": {
          "base_uri": "https://localhost:8080/"
        },
        "id": "XpoMEWkChtEX",
        "outputId": "81e414cc-c641-4317-81ec-45b1d661d3af"
      },
      "source": [
        "! make           && ./savreviews.pl --help"
      ],
      "execution_count": 17,
      "outputs": [
        {
          "output_type": "stream",
          "text": [
            "perl -MCPAN -e 'install YAML::Any, List::MoreUtils, HTML::Entities, URI::Escape, Cache::FileCache, WWW::Curl::Easy, Text::CSV, Log::Any, IO::Prompter, Test::More, Test::Exception'\n",
            "Reading '/root/.cpan/Metadata'\n",
            "  Database was generated on Wed, 21 Apr 2021 00:17:03 GMT\n",
            "YAML::Any is up to date (1.30).\n",
            "List::MoreUtils is up to date (0.430).\n",
            "HTML::Entities is up to date (3.76).\n",
            "URI::Escape is up to date (5.09).\n",
            "Cache::FileCache is up to date (undef).\n",
            "Running install for module 'WWW::Curl::Easy'\n",
            "Checksum for /root/.cpan/sources/authors/id/S/SZ/SZBALINT/WWW-Curl-4.17.tar.gz ok\n",
            "Configuring S/SZ/SZBALINT/WWW-Curl-4.17.tar.gz with Makefile.PL\n",
            "Locating required external dependency bin:curl-config... found at /usr/bin/curl-config.\n",
            "The version is libcurl 7.58.0\n",
            "Cannot find curl.h - cannot build constants files  - see Makefile.PL at Makefile.PL line 96.\n",
            "Warning: No success on command[/usr/bin/perl Makefile.PL INSTALLDIRS=site]\n",
            "  SZBALINT/WWW-Curl-4.17.tar.gz\n",
            "  /usr/bin/perl Makefile.PL INSTALLDIRS=site -- NOT OK\n",
            "Text::CSV is up to date (2.00).\n",
            "Log::Any is up to date (1.709).\n",
            "IO::Prompter is up to date (0.004015).\n",
            "Test::More is up to date (1.302183).\n",
            "Test::Exception is up to date (0.43).\n",
            "# TODO: Since Git 2.9 there is `git config core.hooksPath .git-hooks`\n",
            "chmod +x git-hooks/*\n",
            "ln -sf ../../git-hooks/pre-commit ./.git/hooks/pre-commit\n",
            "ln -sf ../../git-hooks/pre-push   ./.git/hooks/pre-push\n",
            "chmod +x *.pl\n",
            "ln -sf word-en-l.lst ./list-in/dict.lst\n",
            "mkdir -p \"/var/db/good\"\n",
            "touch \"/var/log/good.log\"\n",
            "chown --reference=recentrated.pl \"/var/db/good\" \"/var/log/good.log\"\n",
            "Can't locate WWW/Curl/Easy.pm in @INC (you may need to install the WWW::Curl::Easy module) (@INC contains: /content/goodreads-toolbox/lib/ /etc/perl /usr/local/lib/x86_64-linux-gnu/perl/5.26.1 /usr/local/share/perl/5.26.1 /usr/lib/x86_64-linux-gnu/perl5/5.26 /usr/share/perl5 /usr/lib/x86_64-linux-gnu/perl/5.26 /usr/share/perl/5.26 /usr/local/lib/site_perl /usr/lib/x86_64-linux-gnu/perl-base) at /content/goodreads-toolbox/lib/Goodscrapes.pm line 170.\n",
            "BEGIN failed--compilation aborted at /content/goodreads-toolbox/lib/Goodscrapes.pm line 170.\n",
            "Compilation failed in require at ./savreviews.pl line 129.\n",
            "BEGIN failed--compilation aborted at ./savreviews.pl line 129.\n"
          ],
          "name": "stdout"
        }
      ]
    },
    {
      "cell_type": "code",
      "metadata": {
        "colab": {
          "base_uri": "https://localhost:8080/"
        },
        "id": "PbF-rcOpjJ8k",
        "outputId": "16dd77d5-b376-4918-8872-c81f1682ddd0"
      },
      "source": [
        "! apt-get install libwww-curl-perl\n",
        "! ./savreviews.pl 53138081 -x 1"
      ],
      "execution_count": 20,
      "outputs": [
        {
          "output_type": "stream",
          "text": [
            "Reading package lists... Done\n",
            "Building dependency tree       \n",
            "Reading state information... Done\n",
            "libwww-curl-perl is already the newest version (4.17-4build1).\n",
            "0 upgraded, 0 newly installed, 0 to remove and 31 not upgraded.\n",
            "Loading reviews for \"The Four Winds\"...   30 of 15814 [\u001b[38;5msearching\u001b[0m]\b\b\b\b\b\b\b\b\b\b\b\b\b\b\b\b\b\b\b\b\b\b\b\b\b\b   60 of 15814 [\u001b[38;5msearching\u001b[0m]\b\b\b\b\b\b\b\b\b\b\b\b\b\b\b\b\b\b\b\b\b\b\b\b\b\b   90 of 15814 [\u001b[38;5msearching\u001b[0m]\b\b\b\b\b\b\b\b\b\b\b\b\b\b\b\b\b\b\b\b\b\b\b\b\b\b  120 of 15814 [\u001b[38;5msearching\u001b[0m]\b\b\b\b\b\b\b\b\b\b\b\b\b\b\b\b\b\b\b\b\b\b\b\b\b\b  150 of 15814 [\u001b[38;5msearching\u001b[0m]\b\b\b\b\b\b\b\b\b\b\b\b\b\b\b\b\b\b\b\b\b\b\b\b\b\b  180 of 15814 [\u001b[38;5msearching\u001b[0m]\b\b\b\b\b\b\b\b\b\b\b\b\b\b\b\b\b\b\b\b\b\b\b\b\b\b  210 of 15814 [\u001b[38;5msearching\u001b[0m]\b\b\b\b\b\b\b\b\b\b\b\b\b\b\b\b\b\b\b\b\b\b\b\b\b\b  240 of 15814 [\u001b[38;5msearching\u001b[0m]\b\b\b\b\b\b\b\b\b\b\b\b\b\b\b\b\b\b\b\b\b\b\b\b\b\b  270 of 15814 [\u001b[38;5msearching\u001b[0m]\b\b\b\b\b\b\b\b\b\b\b\b\b\b\b\b\b\b\b\b\b\b\b\b\b\b  300 of 15814 [\u001b[38;5msearching\u001b[0m]\b\b\b\b\b\b\b\b\b\b\b\b\b\b\b\b\b\b\b\b\b\b\b\b\b\b  300 of 15814 [\u001b[38;5msearching\u001b[0m]\b\b\b\b\b\b\b\b\b\b\b\b\b\b\b\b\b\b\b\b\b\b\b\b\b\b  303 of 15814 [\u001b[38;5msearching\u001b[0m]\b\b\b\b\b\b\b\b\b\b\b\b\b\b\b\b\b\b\b\b\b\b\b\b\b\b  305 of 15814 [\u001b[38;5msearching\u001b[0m]\b\b\b\b\b\b\b\b\b\b\b\b\b\b\b\b\b\b\b\b\b\b\b\b\b\b  309 of 15814 [\u001b[38;5msearching\u001b[0m]\b\b\b\b\b\b\b\b\b\b\b\b\b\b\b\b\b\b\b\b\b\b\b\b\b\b  312 of 15814 [\u001b[38;5msearching\u001b[0m]\b\b\b\b\b\b\b\b\b\b\b\b\b\b\b\b\b\b\b\b\b\b\b\b\b\b  312 of 15814 [\u001b[38;5msearching\u001b[0m]\b\b\b\b\b\b\b\b\b\b\b\b\b\b\b\b\b\b\b\b\b\b\b\b\b\b  321 of 15814 [\u001b[38;5msearching\u001b[0m]\b\b\b\b\b\b\b\b\b\b\b\b\b\b\b\b\b\b\b\b\b\b\b\b\b\b  333 of 15814 [\u001b[38;5msearching\u001b[0m]\b\b\b\b\b\b\b\b\b\b\b\b\b\b\b\b\b\b\b\b\b\b\b\b\b\b  347 of 15814 [\u001b[38;5msearching\u001b[0m]\b\b\b\b\b\b\b\b\b\b\b\b\b\b\b\b\b\b\b\b\b\b\b\b\b\b  364 of 15814 [\u001b[38;5msearching\u001b[0m]\b\b\b\b\b\b\b\b\b\b\b\b\b\b\b\b\b\b\b\b\b\b\b\b\b\b  378 of 15814 [\u001b[38;5msearching\u001b[0m]\b\b\b\b\b\b\b\b\b\b\b\b\b\b\b\b\b\b\b\b\b\b\b\b\b\b  393 of 15814 [\u001b[38;5msearching\u001b[0m]\b\b\b\b\b\b\b\b\b\b\b\b\b\b\b\b\b\b\b\b\b\b\b\b\b\b  412 of 15814 [\u001b[38;5msearching\u001b[0m]\b\b\b\b\b\b\b\b\b\b\b\b\b\b\b\b\b\b\b\b\b\b\b\b\b\b  430 of 15814 [\u001b[38;5msearching\u001b[0m]\b\b\b\b\b\b\b\b\b\b\b\b\b\b\b\b\b\b\b\b\b\b\b\b\b\b  447 of 15814 [\u001b[38;5msearching\u001b[0m]\b\b\b\b\b\b\b\b\b\b\b\b\b\b\b\b\b\b\b\b\b\b\b\b\b\b  466 of 15814 [\u001b[38;5msearching\u001b[0m]\b\b\b\b\b\b\b\b\b\b\b\b\b\b\b\b\b\b\b\b\b\b\b\b\b\b  466 of 15814 [\u001b[38;5msearching\u001b[0m]\b\b\b\b\b\b\b\b\b\b\b\b\b\b\b\b\b\b\b\b\b\b\b\b\b\b  479 of 15814 [\u001b[38;5msearching\u001b[0m]\b\b\b\b\b\b\b\b\b\b\b\b\b\b\b\b\b\b\b\b\b\b\b\b\b\b  509 of 15814 [\u001b[38;5msearching\u001b[0m]\b\b\b\b\b\b\b\b\b\b\b\b\b\b\b\b\b\b\b\b\b\b\b\b\b\b  539 of 15814 [\u001b[38;5msearching\u001b[0m]\b\b\b\b\b\b\b\b\b\b\b\b\b\b\b\b\b\b\b\b\b\b\b\b\b\b  569 of 15814 [\u001b[38;5msearching\u001b[0m]\b\b\b\b\b\b\b\b\b\b\b\b\b\b\b\b\b\b\b\b\b\b\b\b\b\b  599 of 15814 [\u001b[38;5msearching\u001b[0m]\b\b\b\b\b\b\b\b\b\b\b\b\b\b\b\b\b\b\b\b\b\b\b\b\b\b  629 of 15814 [\u001b[38;5msearching\u001b[0m]\b\b\b\b\b\b\b\b\b\b\b\b\b\b\b\b\b\b\b\b\b\b\b\b\b\b  635 of 15814 [\u001b[38;5msearching\u001b[0m]\b\b\b\b\b\b\b\b\b\b\b\b\b\b\b\b\b\b\b\b\b\b\b\b\b\b  635 of 15814 [\u001b[38;5msearching\u001b[0m]\b\b\b\b\b\b\b\b\b\b\b\b\b\b\b\b\b\b\b\b\b\b\b\b\b\b  635 of 15814 [\u001b[38;5msearching\u001b[0m]\b\b\b\b\b\b\b\b\b\b\b\b\b\b\b\b\b\b\b\b\b\b\b\b\b\b  635 of 15814 [\u001b[38;5msearching\u001b[0m]\b\b\b\b\b\b\b\b\b\b\b\b\b\b\b\b\b\b\b\b\b\b\b\b\b\b  650 of 15814 [\u001b[38;5msearching\u001b[0m]\b\b\b\b\b\b\b\b\b\b\b\b\b\b\b\b\b\b\b\b\b\b\b\b\b\b  680 of 15814 [\u001b[38;5msearching\u001b[0m]\b\b\b\b\b\b\b\b\b\b\b\b\b\b\b\b\b\b\b\b\b\b\b\b\b\b  710 of 15814 [\u001b[38;5msearching\u001b[0m]\b\b\b\b\b\b\b\b\b\b\b\b\b\b\b\b\b\b\b\b\b\b\b\b\b\b  740 of 15814 [\u001b[38;5msearching\u001b[0m]\b\b\b\b\b\b\b\b\b\b\b\b\b\b\b\b\b\b\b\b\b\b\b\b\b\b  770 of 15814 [\u001b[38;5msearching\u001b[0m]\b\b\b\b\b\b\b\b\b\b\b\b\b\b\b\b\b\b\b\b\b\b\b\b\b\b  800 of 15814 [\u001b[38;5msearching\u001b[0m]\b\b\b\b\b\b\b\b\b\b\b\b\b\b\b\b\b\b\b\b\b\b\b\b\b\b  829 of 15814 [\u001b[38;5msearching\u001b[0m]\b\b\b\b\b\b\b\b\b\b\b\b\b\b\b\b\b\b\b\b\b\b\b\b\b\b  859 of 15814 [\u001b[38;5msearching\u001b[0m]\b\b\b\b\b\b\b\b\b\b\b\b\b\b\b\b\b\b\b\b\b\b\b\b\b\b  889 of 15814 [\u001b[38;5msearching\u001b[0m]\b\b\b\b\b\b\b\b\b\b\b\b\b\b\b\b\b\b\b\b\b\b\b\b\b\b  919 of 15814 [\u001b[38;5msearching\u001b[0m]\b\b\b\b\b\b\b\b\b\b\b\b\b\b\b\b\b\b\b\b\b\b\b\b\b\b  919 of 15814 [\u001b[38;5msearching\u001b[0m]\b\b\b\b\b\b\b\b\b\b\b\b\b\b\b\b\b\b\b\b\b\b\b\b\b\b  919 of 15814 [\u001b[38;5msearching\u001b[0m]\b\b\b\b\b\b\b\b\b\b\b\b\b\b\b\b\b\b\b\b\b\b\b\b\b\b  919 of 15814 [\u001b[38;5msearching\u001b[0m]\b\b\b\b\b\b\b\b\b\b\b\b\b\b\b\b\b\b\b\b\b\b\b\b\b\b  919 of 15814 [\u001b[38;5msearching\u001b[0m]\b\b\b\b\b\b\b\b\b\b\b\b\b\b\b\b\b\b\b\b\b\b\b\b\b\b  919 of 15814 [\u001b[38;5msearching\u001b[0m]\b\b\b\b\b\b\b\b\b\b\b\b\b\b\b\b\b\b\b\b\b\b\b\b\b\b  919 of 15814 [\u001b[38;5msearching\u001b[0m]\b\b\b\b\b\b\b\b\b\b\b\b\b\b\b\b\b\b\b\b\b\b\b\b\b\b  919 of 15814 [\u001b[38;5msearching\u001b[0m]\b\b\b\b\b\b\b\b\b\b\b\b\b\b\b\b\b\b\b\b\b\b\b\b\b\b  919 of 15814 [\u001b[38;5msearching\u001b[0m]\b\b\b\b\b\b\b\b\b\b\b\b\b\b\b\b\b\b\b\b\b\b\b\b\b\b  919 of 15814 [\u001b[38;5msearching\u001b[0m]\b\b\b\b\b\b\b\b\b\b\b\b\b\b\b\b\b\b\b\b\b\b\b\b\b\b  919 of 15814 [\u001b[38;5msearching\u001b[0m]\b\b\b\b\b\b\b\b\b\b\b\b\b\b\b\b\b\b\b\b\b\b\b\b\b\b  919 of 15814 [\u001b[38;5msearching\u001b[0m]\b\b\b\b\b\b\b\b\b\b\b\b\b\b\b\b\b\b\b\b\b\b\b\b\b\b  919 of 15814 [\u001b[38;5msearching\u001b[0m]\n",
            "\n",
            "Number of reviews per year:\n",
            "2020 ############                               224\n",
            "2021 ########################################   695\n",
            "\n",
            "Writing reviews to:\n",
            "/content/goodreads-toolbox/list-out/savreviews-book53138081-stars0.txt\n",
            "/content/goodreads-toolbox/list-out/savreviews-book53138081-stars1.txt\n",
            "/content/goodreads-toolbox/list-out/savreviews-book53138081-stars2.txt\n",
            "/content/goodreads-toolbox/list-out/savreviews-book53138081-stars3.txt\n",
            "/content/goodreads-toolbox/list-out/savreviews-book53138081-stars4.txt\n",
            "/content/goodreads-toolbox/list-out/savreviews-book53138081-stars5.txt\n",
            "\n",
            "Total time: 1 minutes\n"
          ],
          "name": "stdout"
        }
      ]
    },
    {
      "cell_type": "code",
      "metadata": {
        "colab": {
          "base_uri": "https://localhost:8080/"
        },
        "id": "fGoICQK5l1pv",
        "outputId": "3966a1f7-55f8-4055-f06f-131a07967831"
      },
      "source": [
        "! ./search.pl The Four Winds: A Novel\t"
      ],
      "execution_count": 21,
      "outputs": [
        {
          "output_type": "stream",
          "text": [
            "Searching books:\n",
            "\n",
            " about..... The Four Winds: A Novel\n",
            " rated by.. 5 members or more\n",
            " order by.. stars, num_ratings, year\n",
            " progress.. 100%\b\b\b\b100%\n",
            "\n",
            "Writing search result (N=5) to \"/content/goodreads-toolbox/list-out/search-The Four Winds: A Novel.html\"... \n",
            "Total time: 0 minutes\n"
          ],
          "name": "stdout"
        }
      ]
    }
  ]
}